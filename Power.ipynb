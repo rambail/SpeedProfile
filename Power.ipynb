{
 "cells": [
  {
   "cell_type": "code",
   "execution_count": 1,
   "id": "583c143f-ebe2-40f1-ac7c-c9552e92539f",
   "metadata": {},
   "outputs": [],
   "source": [
    "import numpy as np\n",
    "import pandas as pd\n",
    "import matplotlib.pyplot as plt\n"
   ]
  },
  {
   "cell_type": "code",
   "execution_count": 2,
   "id": "760f418c-d579-4c19-967a-2129cb271395",
   "metadata": {},
   "outputs": [],
   "source": [
    "# Load the CSV files\n",
    "# The CSV files contain the input parameters\n",
    "train_params = pd.read_csv('train_parameters.csv') # Train parameters\n",
    "stations = pd.read_csv('stations.csv') # Station and their chainage\n",
    "curves = pd.read_csv('curves.csv') # Curves data including start, end, radius\n",
    "gradients = pd.read_csv('gradients.csv') # Gradient data including start, end\n",
    "speed_restrictions = pd.read_csv('sr.csv') # Speed restriction associated with curve\n",
    "\n",
    "# Load the train parameters CSV file\n",
    "train_params = pd.read_csv('train_parameters.csv')\n",
    "\n",
    "#print(speed_restrictions.columns)\n",
    "#print(curves.columns)\n"
   ]
  },
  {
   "cell_type": "code",
   "execution_count": 3,
   "id": "950d7ede-ebff-4292-af73-7c4db6981629",
   "metadata": {},
   "outputs": [],
   "source": [
    "# Convert the 'Value' column to a dictionary for easy access\n",
    "train_params_dict = pd.Series(train_params.Value.values, index=train_params.Parameter).to_dict()\n",
    "\n",
    "# Extract values from the dictionary\n",
    "acceleration = float(train_params_dict['Acceleration_rate_1'])\n",
    "acceleration_switch = float(train_params_dict['Acceleration_rate_2'])\n",
    "switch_speed = float(train_params_dict['Switch_speed'])\n",
    "braking_deceleration = float(train_params_dict['Braking_rate'])\n",
    "max_speed = float(train_params_dict['Maximum_speed']) * 5/18 # Assuming the speed is in km/h, convert to m/s\n",
    "static_friction = float(train_params_dict['Static_friction'])\n",
    "rolling_resistance = float(train_params_dict['Rolling_resistance'])\n",
    "air_resistance = float(train_params_dict['Air_resistance'])\n",
    "mass = float(train_params_dict['Train_mass'])  # Train weight in tons\n",
    "#power = float(train_params_dict['Power'])  # Power in kW\n",
    "mc_mass = float(train_params_dict['MC_mass'])  # Motor car weight\n",
    "tc_mass = float(train_params_dict['TC_mass'])  # Trailer Car weight\n",
    "starting_resistance = float(train_params_dict['Starting_resistance'])  # Starting resistance of train\n",
    "inertia_mass_m = float(train_params_dict['Inertia_mass_m'])  # Intertial coefficient of motor car\n",
    "inertia_mass_t = float(train_params_dict['Inertia_mass_t'])  # Intertial coefficient of trailer car\n",
    "motor_nos = float(train_params_dict['Motor_nos'])  # Number of driving motors in train\n",
    "regen_efficiency = float(train_params_dict['Regeneration_efficiency'])  # Efficiency of regeneration\n"
   ]
  },
  {
   "cell_type": "code",
   "execution_count": 4,
   "id": "3f1cce6e-6a23-4223-9bf8-31e881f2dac3",
   "metadata": {},
   "outputs": [],
   "source": [
    "# Function to calculate resistance using Davis formula\n",
    "def calculate_resistance_per_ton(v):\n",
    "    return (static_friction + rolling_resistance * v + air_resistance * v**2) * mass\n"
   ]
  },
  {
   "cell_type": "code",
   "execution_count": 5,
   "id": "e87bfa14-8ff9-4277-8734-b1fb12fdbd2f",
   "metadata": {},
   "outputs": [],
   "source": [
    "# Constants and parameters (sample values)\n",
    "g = 9.81  # gravitational acceleration in m/s²\n",
    "distance_total = 1000  # Distance between stations in meters (1 km)\n",
    "speed = 0\n",
    "\n",
    "# Train parameters (example)\n",
    "station_stop_time = 30  # seconds (stop time at station)\n"
   ]
  },
  {
   "cell_type": "code",
   "execution_count": 6,
   "id": "12166126-2c51-4c70-9e1d-75e2228e389c",
   "metadata": {},
   "outputs": [],
   "source": [
    "# Speed restrictions (start chainage, end chainage, restricted speed)\n",
    "speed_restrictions = [\n",
    "    {'start': 300, 'end': 400, 'restricted_speed': 18.0},  \n",
    "    {'start': 700, 'end': 800, 'restricted_speed': 19.0},  \n",
    "]"
   ]
  },
  {
   "cell_type": "code",
   "execution_count": 7,
   "id": "8d68b691-a3e1-42c8-9ea9-e0f52f0b90cc",
   "metadata": {},
   "outputs": [],
   "source": [
    "def acceleration_phase(v_initial, v_final, accel):\n",
    "    time_accel = (v_final - v_initial) / accel\n",
    "    v = np.linspace(v_initial, v_final, 100)\n",
    "    t = np.linspace(0, time_accel, 100)\n",
    "\n",
    "    P_accel = []\n",
    "    for speed in v:\n",
    "        R = calculate_resistance_per_ton(speed)  # Resistance in N\n",
    "        force = (mass * accel + R) * 1000  # Total force convert from Tons\n",
    "        power = force * speed  # Power = Force * Velocity\n",
    "        P_accel.append(power)\n",
    "\n",
    "    # Energy consumed during acceleration (integrating power over time)\n",
    "    energy_accel = np.trapz(P_accel, t)\n",
    "    # Distance covered during acceleration\n",
    "    distance_accel = 0.5 * accel * time_accel**2\n",
    "    return energy_accel, distance_accel, time_accel"
   ]
  },
  {
   "cell_type": "code",
   "execution_count": 8,
   "id": "ec7aa270-3c47-4dc5-82c0-48a6b5d09fbd",
   "metadata": {},
   "outputs": [],
   "source": [
    "# Coasting phase (speed reduces due to resistance)\n",
    "def coasting_phase(v_initial, distance_remaining, distance_braking):\n",
    "    v = [v_initial]\n",
    "    distance_coasted = 0\n",
    "    dt = 1  # time step in seconds\n",
    "    time_sr = 0\n",
    "    energy_coast = 0\n",
    "    while distance_coasted < distance_remaining - distance_braking:\n",
    "        R = calculate_resistance_per_ton(v[-1])  # Resistance in N\n",
    "        decel_due_to_resistance = R / mass /1000  # Deceleration caused by resistance\n",
    "        new_speed = v[-1] - decel_due_to_resistance * dt  # Speed reduces due to resistance\n",
    "\n",
    "        if new_speed <= 0:  # Train would stop, but we limit the speed reduction\n",
    "            break\n",
    "\n",
    "        v.append(new_speed)\n",
    "        distance_coasted += new_speed * dt\n",
    "        # The next block is on energy consumption during coating.\n",
    "        # You can disable the block by removing Hash\n",
    "        \n",
    "        '''\n",
    "        # Speed restriction module\n",
    "        sr_exists, sr_energy, sr_distance, sr_time = handle_speed_restriction(new_speed, distance_coasted)\n",
    "        if (sr_exists):\n",
    "            print(f'Energy:{sr_energy}, Distance:{sr_distance}, Time:{sr_time}')\n",
    "            distance_coasted += sr_distance\n",
    "            time_sr += sr_time\n",
    "            energy_coast += sr_energy\n",
    "        '''    \n",
    "\n",
    "        #print(distance_coasted)\n",
    "    time_coast = len(v) * dt + time_sr # Total time spent coasting\n",
    "    #print(f'Coasting time:{time_coast}s')\n",
    "    return energy_coast, distance_coasted, time_coast  # No energy consumed during coasting\n"
   ]
  },
  {
   "cell_type": "code",
   "execution_count": 9,
   "id": "088a3fa7-c042-4b0c-b840-be8f220ce899",
   "metadata": {},
   "outputs": [],
   "source": [
    "# Braking phase\n",
    "def braking_phase(v_initial, v_final, decel):\n",
    "    time_brake = (v_initial - v_final) / decel\n",
    "    v = np.linspace(v_initial, v_final, 100)\n",
    "    t = np.linspace(0, time_brake, 100)\n",
    "\n",
    "    P_brake = []\n",
    "    for speed in v:\n",
    "        R = calculate_resistance_per_ton(speed)  # Resistance in N\n",
    "        F_brake = mass * decel  # Braking force\n",
    "        F_net = (F_brake - R) * 1000  # Net braking force (braking - resistance) convert from Tons\n",
    "        power_braking = F_net * speed  # Power during braking\n",
    "        P_brake.append(-power_braking)  # Negative power (deceleration)\n",
    "\n",
    "    # Total energy consumed during braking\n",
    "    total_energy_brake = np.trapz(P_brake, t)\n",
    "    # Regenerated energy (50% of braking energy is recovered)\n",
    "    energy_brake = -total_energy_brake * regen_efficiency\n",
    "    # Net energy used during braking\n",
    "    #net_energy_brake = total_energy_brake + energy_regen\n",
    "    # Distance covered during braking\n",
    "    distance_brake = 0.5 * decel * time_brake**2\n",
    "    return energy_brake, distance_brake, time_brake\n"
   ]
  },
  {
   "cell_type": "code",
   "execution_count": 10,
   "id": "bda78802-2f20-41b8-97e9-de8198cd7d20",
   "metadata": {},
   "outputs": [],
   "source": [
    "# Handle speed restrictions\n",
    "def handle_speed_restriction(v_initial, distance_covered):\n",
    "\n",
    "    net_energy = 0  # Initialize net energy\n",
    "    total_time = 0  # Initialize total time\n",
    "    distance_covered = distance_covered\n",
    "    sr_exists = False\n",
    "    \n",
    "    # Braking to restricted speed\n",
    "    for restriction in speed_restrictions:\n",
    "        # Check if current distance_covered is within the restriction zone\n",
    "        if restriction['start'] <= distance_covered <= restriction['end']:\n",
    "            restricted_speed = restriction['restricted_speed']\n",
    "            energy_brake, distance_brake, time_brake = braking_phase(v_initial, restricted_speed, braking_deceleration)\n",
    "            distance_covered += (restriction['end'] - restriction['start'] + distance_brake)\n",
    "            energy_accel, distance_accel, time_accel = acceleration_phase(restricted_speed, max_speed, acceleration)\n",
    "            distance_covered += distance_accel\n",
    "            net_energy = energy_brake + energy_accel\n",
    "            total_time = time_brake + (restriction['end'] - restriction['start']) / restricted_speed + time_accel\n",
    "            sr_exists = True\n",
    "            #print(f'Energy:{net_energy}, Distance:{distance_covered}, Time:{total_time}')\n",
    "            #print(f\"Braking time:{time_brake}, Coasting time:{(restriction['end'] - restriction['start']) / restricted_speed}, Accl Time:{time_accel}\")\n",
    "\n",
    "    return sr_exists, net_energy, distance_covered, total_time\n"
   ]
  },
  {
   "cell_type": "code",
   "execution_count": 11,
   "id": "e633539e-fb77-415e-bd93-d104cb5ee465",
   "metadata": {},
   "outputs": [],
   "source": [
    "# Simulation of the train journey\n",
    "def simulate_train_run(speed):\n",
    "    # 1. Acceleration to maximum speed\n",
    "    if speed < max_speed: \n",
    "        energy_accel, distance_accel, time_accel = acceleration_phase(0, max_speed, acceleration)\n",
    "        speed = max_speed\n",
    "\n",
    "    # 2. Coasting phase (losing speed due to resistance)\n",
    "    distance_remaining = distance_total - distance_accel\n",
    "    distance_braking = max_speed**2/2/braking_deceleration\n",
    "    #print(distance_remaining,distance_braking)\n",
    "    if distance_remaining > distance_braking:\n",
    "        energy_coast, distance_coast, time_coast = coasting_phase(max_speed, distance_remaining, distance_braking)  # Coast the remaining distance\n",
    "\n",
    "    # 3. Braking phase to stop at the station\n",
    "    distance_remaining = distance_total - distance_accel - distance_braking\n",
    "    if distance_remaining > 0:\n",
    "        energy_brake, distance_brake, time_brake = braking_phase(max_speed, 0, braking_deceleration)\n",
    "\n",
    "    #print(f\"Braking energy:{energy_brake}, Coasting energy:{energy_coast}, Accl energy:{energy_accel}\")\n",
    "    \n",
    "    return time_accel, time_coast, time_brake, energy_accel, energy_brake, energy_coast\n"
   ]
  },
  {
   "cell_type": "code",
   "execution_count": 12,
   "id": "10d38af3-c6e3-424f-b01e-df033f49d6af",
   "metadata": {},
   "outputs": [],
   "source": [
    "def plot_speed(time_accel, time_coast, time_brake, max_speed):\n",
    "\n",
    "    # Create the time and speed arrays for each phase\n",
    "    t_accel = np.linspace(0, time_accel, 100)  # Acceleration phase\n",
    "    t_coast = np.linspace(time_accel, time_accel + time_coast, 100)  # Coasting phase\n",
    "    t_brake = np.linspace(time_accel + time_coast, time_accel + time_coast + time_brake, 100)  # Braking phase\n",
    "    \n",
    "    # Speed points for each phase\n",
    "    v_accel = np.linspace(0, max_speed, 100)  # Speed increases during acceleration\n",
    "    v_coast = np.full(100, max_speed)  # Speed is constant during coasting\n",
    "    v_brake = np.linspace(max_speed, 0, 100)  # Speed decreases during braking\n",
    "    \n",
    "    # Concatenate the times and speeds for a continuous plot\n",
    "    time_total = np.concatenate((t_accel, t_coast, t_brake))\n",
    "    speed_total = np.concatenate((v_accel, v_coast, v_brake))\n",
    "    \n",
    "    # Plot the speed vs time\n",
    "    plt.plot(time_total, speed_total)\n",
    "    plt.xlabel('Time (s)')\n",
    "    plt.ylabel('Speed (m/s)')\n",
    "    plt.title('Speed Profile of the Metro Train')\n",
    "    plt.grid(True)\n",
    "    plt.show()\n",
    "\n",
    "    return"
   ]
  },
  {
   "cell_type": "code",
   "execution_count": 13,
   "id": "3127dc61-f526-4e55-b112-31f79812bace",
   "metadata": {},
   "outputs": [
    {
     "data": {
      "image/png": "[encoded data removed]",
      "text/plain": [
       "<Figure size 640x480 with 1 Axes>"
      ]
     },
     "metadata": {},
     "output_type": "display_data"
    },
    {
     "name": "stdout",
     "output_type": "stream",
     "text": [
      "Total Energy Consumed: 167.67 kWh\n",
      "Average Power: 9044.32 kW\n",
      "Total Time Taken: 66.74 seconds\n"
     ]
    }
   ],
   "source": [
    "# Run the simulation\n",
    "time_accel, time_coast, time_brake, energy_accel, energy_brake, energy_coast = simulate_train_run(0)\n",
    "\n",
    "plot_speed(time_accel, time_coast, time_brake, max_speed)\n",
    "\n",
    "# Total energy consumed (note: no energy during coasting)\n",
    "total_energy = energy_accel + energy_brake + energy_coast\n",
    "\n",
    "total_time = time_accel + time_coast + time_brake\n",
    "\n",
    "# Convert energy from joules to kWh\n",
    "total_energy_kwh = total_energy / 3600000  # 1 kWh = 3.6 million joules\n",
    "\n",
    "# Average power for the entire journey (in watts)\n",
    "average_power = total_energy / total_time  # Average power in watts\n",
    "average_power_kwh = average_power / 1000  # Convert watts to kilowatts\n",
    "\n",
    "# Output the results\n",
    "print(f\"Total Energy Consumed: {total_energy_kwh:.2f} kWh\")\n",
    "print(f\"Average Power: {average_power_kwh:.2f} kW\")  # Convert watts to kilowatts\n",
    "#print(f\"Energy Recovered (Regeneration): {energy_brake * regen_efficiency / 3600000:.2f} kWh\")\n",
    "#print(f\"Net Energy Used: {(total_energy - energy_brake * regen_efficiency) / 3600000:.2f} kWh\")\n",
    "print(f\"Total Time Taken: {total_time:.2f} seconds\")\n",
    "\n"
   ]
  },
  {
   "cell_type": "code",
   "execution_count": 14,
   "id": "1cbdaf6a-adbc-49fe-9899-fe7851180add",
   "metadata": {},
   "outputs": [
    {
     "name": "stdout",
     "output_type": "stream",
     "text": [
      "Total Energy Consumption: 300.00 KWh\n",
      "Energy Charges: Rs. 2100.00 \n"
     ]
    }
   ],
   "source": [
    "# Constants\n",
    "SEC = 50  # Specific Energy Consumption in Wh/ton-km or KWh/1000 ton\n",
    "mass_in_tons = 200  # Train mass in tons\n",
    "distance_in_km = 30  # Distance traveled in kilometers (example)\n",
    "Unit_charge = 7 # Per unit charge in Rupees per KWh\n",
    "\n",
    "\n",
    "# Step 1: Calculate total energy consumption using SEC\n",
    "total_energy_wh = SEC * mass_in_tons * distance_in_km / 1000 # in KWh\n",
    "\n",
    "# Step 2: Calculate Energy charges\n",
    "energy_bill = total_energy_wh * 7 \n",
    "\n",
    "\n",
    "# Output the results\n",
    "print(f\"Total Energy Consumption: {total_energy_wh:.2f} KWh\")\n",
    "print(f\"Energy Charges: Rs. {energy_bill:.2f} \")\n"
   ]
  },
  {
   "cell_type": "code",
   "execution_count": null,
   "id": "5f1b5554-8448-4f45-aef4-04ae80e45f06",
   "metadata": {},
   "outputs": [],
   "source": []
  }
 ],
 "metadata": {
  "kernelspec": {
   "display_name": "Python 3 (ipykernel)",
   "language": "python",
   "name": "python3"
  },
  "language_info": {
   "codemirror_mode": {
    "name": "ipython",
    "version": 3
   },
   "file_extension": ".py",
   "mimetype": "text/x-python",
   "name": "python",
   "nbconvert_exporter": "python",
   "pygments_lexer": "ipython3",
   "version": "3.11.4"
  }
 },
 "nbformat": 4,
 "nbformat_minor": 5
}
