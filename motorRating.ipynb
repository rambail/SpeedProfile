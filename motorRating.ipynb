{
 "cells": [
  {
   "cell_type": "markdown",
   "metadata": {},
   "source": [
    "### Install packages"
   ]
  },
  {
   "cell_type": "code",
   "execution_count": 1,
   "metadata": {},
   "outputs": [],
   "source": [
    "try: # Install microgrids package in JupyterLite (if run in JupyterLite)\n",
    "    import piplite\n",
    "    await piplite.install([ 'ipywidgets', ])\n",
    "except ImportError:\n",
    "    pass"
   ]
  },
  {
   "cell_type": "markdown",
   "metadata": {},
   "source": [
    "### Import packages"
   ]
  },
  {
   "cell_type": "code",
   "execution_count": 2,
   "metadata": {},
   "outputs": [],
   "source": [
    "import matplotlib.pyplot as plt\n",
    "import numpy as np\n",
    "import ipywidgets as widgets\n",
    "from IPython.display import display\n",
    "from ipywidgets import HBox, VBox, interactive_output, Output"
   ]
  },
  {
   "cell_type": "markdown",
   "metadata": {},
   "source": [
    "### Define fixed variables"
   ]
  },
  {
   "cell_type": "code",
   "execution_count": 3,
   "metadata": {},
   "outputs": [],
   "source": [
    "# Constants\n",
    "weightTrain = 200 # Weight of Train in Tons\n",
    "coeffInertia = 0.1 # Coeffecient of Inertia in %\n",
    "resistStart = 49 # Starting resistance in N/Ton\n",
    "motorsNos = 8 # Number of motorised axles\n",
    "accler = 1.0 # Acceleration value in m/s2"
   ]
  },
  {
   "cell_type": "markdown",
   "metadata": {},
   "source": [
    "### Function to create the Tractive Effort plot"
   ]
  },
  {
   "cell_type": "code",
   "execution_count": 4,
   "metadata": {},
   "outputs": [],
   "source": [
    "def plot1(accSpdLmt):\n",
    "    x = np.linspace(0, 80, num=100)\n",
    "    \n",
    "    teStart = weightTrain * resistStart /1000 # Starting Effort in kN\n",
    "    teRolling = (weightTrain + weightTrain * coeffInertia) * accler # Moving Effort\n",
    "    teTotal = teStart + teRolling # Total Effort\n",
    "    teMotor = teTotal / motorsNos # Effort per Motor\n",
    "    powerMotor = teMotor * accSpdLmt * 1000 / 3600 # Motor Rating\n",
    "\n",
    "    print(f'Starting Effort:{teStart} kN, Moving Effort:{teRolling}kN')\n",
    "    print(f'Motor TE:{teMotor}kN, Motor Rating: {powerMotor}')\n",
    "\n",
    "    te = []\n",
    "    for i in x:\n",
    "        if i < accSpdLmt:\n",
    "            te.append(teMotor)\n",
    "        else:\n",
    "            te.append(powerMotor / i * 3600 /1000)\n",
    "    \n",
    "    fig, ax = plt.subplots(figsize=(5, 3))  # Set figure size\n",
    "    ax.plot(x,te)\n",
    "    ax.set_title(f'Tractive effort is {teMotor}kN at {accSpdLmt}kmph')\n",
    "    return fig\n"
   ]
  },
  {
   "cell_type": "markdown",
   "metadata": {},
   "source": [
    "### Function to create the bar chat for motor power rating"
   ]
  },
  {
   "cell_type": "code",
   "execution_count": 5,
   "metadata": {},
   "outputs": [],
   "source": [
    "def plot2(accSpdLmt):\n",
    "    teStart = weightTrain * resistStart /1000 # Starting Effort in kN\n",
    "    teRolling = (weightTrain + weightTrain * coeffInertia) * accler # Moving Effort\n",
    "    teTotal = teStart + teRolling # Total Effort\n",
    "    teMotor = teTotal / motorsNos # Effort per Motor\n",
    "    powerMotor = teMotor * accSpdLmt * 1000 / 3600 # Motor Rating\n",
    "    \n",
    "    fig, ax = plt.subplots(figsize=(5, 3))  # Set figure size\n",
    "    ax.bar(range(1), powerMotor, width=0.5)\n",
    "    ax.set_title(f'Motor Power needed is {int(powerMotor)}kW')\n",
    "    ax.set_ylim(150, 500)\n",
    "    ax.set_xlim(-5, 5)\n",
    "    return fig"
   ]
  },
  {
   "cell_type": "markdown",
   "metadata": {},
   "source": [
    "### Update the paramateric value interactively to observe senstivity"
   ]
  },
  {
   "cell_type": "code",
   "execution_count": 6,
   "metadata": {},
   "outputs": [],
   "source": [
    "def update(accSpdLmt):\n",
    "    out1.clear_output(wait=True)\n",
    "    out2.clear_output(wait=True)\n",
    "    \n",
    "    with out1:\n",
    "        fig1 = plot1(accSpdLmt)\n",
    "        plt.show(fig1)\n",
    "    \n",
    "    with out2:\n",
    "        fig2 = plot2(accSpdLmt)\n",
    "        plt.show(fig2)"
   ]
  },
  {
   "cell_type": "markdown",
   "metadata": {},
   "source": [
    "### Widget and others"
   ]
  },
  {
   "cell_type": "code",
   "execution_count": 7,
   "metadata": {},
   "outputs": [],
   "source": [
    "# Widgets for interactive plots\n",
    "accSpdLmt_slider = widgets.FloatSlider(value=30, min=10, max=80, step=0.5, description='Acceleration Limit')\n",
    "\n",
    "# Outputs for plots\n",
    "out1 = Output()\n",
    "out2 = Output()\n",
    "\n",
    "# Interactive display\n",
    "ui = HBox([accSpdLmt_slider])\n",
    "out = VBox([HBox([out1, out2])])\n",
    "\n",
    "interactive_plot = interactive_output(update, {'accSpdLmt': accSpdLmt_slider, })"
   ]
  },
  {
   "cell_type": "markdown",
   "metadata": {},
   "source": [
    "### Show interactive plot"
   ]
  },
  {
   "cell_type": "code",
   "execution_count": 8,
   "metadata": {},
   "outputs": [
    {
     "data": {
      "application/vnd.jupyter.widget-view+json": {
       "model_id": "8f7512ee2855450498170e8b042ac0e8",
       "version_major": 2,
       "version_minor": 0
      },
      "text/plain": [
       "VBox(children=(HBox(children=(FloatSlider(value=30.0, description='Acceleration Limit', max=80.0, min=10.0, st…"
      ]
     },
     "metadata": {},
     "output_type": "display_data"
    }
   ],
   "source": [
    "display(VBox([ui, out, interactive_plot]))"
   ]
  },
  {
   "cell_type": "code",
   "execution_count": null,
   "metadata": {},
   "outputs": [],
   "source": []
  }
 ],
 "metadata": {
  "kernelspec": {
   "display_name": "Python 3 (ipykernel)",
   "language": "python",
   "name": "python3"
  },
  "language_info": {
   "codemirror_mode": {
    "name": "ipython",
    "version": 3
   },
   "file_extension": ".py",
   "mimetype": "text/x-python",
   "name": "python",
   "nbconvert_exporter": "python",
   "pygments_lexer": "ipython3",
   "version": "3.11.4"
  }
 },
 "nbformat": 4,
 "nbformat_minor": 4
}
