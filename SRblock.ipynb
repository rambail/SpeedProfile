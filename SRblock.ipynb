{
 "cells": [
  {
   "cell_type": "code",
   "execution_count": 1,
   "id": "2347126f-ac10-4e33-b4b6-402687e5f2db",
   "metadata": {},
   "outputs": [
    {
     "name": "stdout",
     "output_type": "stream",
     "text": [
      "    Start    End  Radius\n",
      "0    1536   1667  1000.0\n",
      "1    1774   1861   500.0\n",
      "2    2018   2113   800.0\n",
      "3    2147   2226   500.0\n",
      "4    2510   2635   700.0\n",
      "..    ...    ...     ...\n",
      "81  31331  31464   400.0\n",
      "82  31755  31868  2010.0\n",
      "83  32724  33255   800.0\n",
      "84  33948  34090   200.0\n",
      "85  35602  35670  3500.0\n",
      "\n",
      "[86 rows x 3 columns]\n",
      "No speed restriction at distance 4125\n"
     ]
    }
   ],
   "source": [
    "import pandas as pd\n",
    "\n",
    "# Step 1: Load curves and speed restrictions\n",
    "curves = pd.read_csv('curves.csv')\n",
    "speed_restrictions = pd.read_csv('sr.csv')\n",
    "\n",
    "#print(speed_restrictions.columns)\n",
    "#print(curves.columns)\n",
    "\n",
    "# Create a dictionary to map radius to speed restriction\n",
    "speed_limit_dict = pd.Series(speed_restrictions.Speed_Limit.values, index=speed_restrictions.Radius).to_dict()\n",
    "print(curves)\n",
    "\n",
    "# Step 2: Function to find the speed restriction at a given distance\n",
    "def get_speed_restriction(distance):\n",
    "    # Loop through each curve\n",
    "    for i in range(len(curves)):\n",
    "        start = curves.iloc[i]['Start']\n",
    "        end = curves.iloc[i]['End']\n",
    "        radius = curves.iloc[i]['Radius']\n",
    "        \n",
    "        # Check if the current distance falls within the curve zone\n",
    "        if start <= distance <= end:\n",
    "            # Return the speed restriction for the corresponding radius\n",
    "            return speed_limit_dict.get(radius, None)  # Returns None if radius not found\n",
    "    return None  # No speed restriction if distance is outside curve zones\n",
    "\n",
    "# Example usage\n",
    "current_distance = 4125  # You can call this dynamically as the train moves\n",
    "\n",
    "speed_limit = get_speed_restriction(current_distance)\n",
    "if speed_limit:\n",
    "    print(f\"Speed restriction at distance {current_distance}: {speed_limit} km/h\")\n",
    "else:\n",
    "    print(f\"No speed restriction at distance {current_distance}\")\n"
   ]
  }
 ],
 "metadata": {
  "kernelspec": {
   "display_name": "Python 3 (ipykernel)",
   "language": "python",
   "name": "python3"
  },
  "language_info": {
   "codemirror_mode": {
    "name": "ipython",
    "version": 3
   },
   "file_extension": ".py",
   "mimetype": "text/x-python",
   "name": "python",
   "nbconvert_exporter": "python",
   "pygments_lexer": "ipython3",
   "version": "3.11.4"
  }
 },
 "nbformat": 4,
 "nbformat_minor": 5
}
