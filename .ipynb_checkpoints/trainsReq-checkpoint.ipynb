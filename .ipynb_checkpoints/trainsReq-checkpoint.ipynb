{
 "cells": [
  {
   "cell_type": "markdown",
   "metadata": {},
   "source": [
    "### Install packages"
   ]
  },
  {
   "cell_type": "code",
   "execution_count": null,
   "metadata": {},
   "outputs": [],
   "source": [
    "try: # Install microgrids package in JupyterLite (if run in JupyterLite)\n",
    "    import piplite\n",
    "    await piplite.install([ 'ipywidgets', ])\n",
    "except ImportError:\n",
    "    pass"
   ]
  },
  {
   "cell_type": "markdown",
   "metadata": {},
   "source": [
    "### Import packages"
   ]
  },
  {
   "cell_type": "code",
   "execution_count": null,
   "metadata": {},
   "outputs": [],
   "source": [
    "import matplotlib.pyplot as plt\n",
    "import numpy as np\n",
    "import ipywidgets as widgets\n",
    "from IPython.display import display\n",
    "from ipywidgets import VBox, interactive_output, Output"
   ]
  },
  {
   "cell_type": "markdown",
   "metadata": {},
   "source": [
    "### Define fixed variables"
   ]
  },
  {
   "cell_type": "code",
   "execution_count": null,
   "metadata": {},
   "outputs": [],
   "source": [
    "# Constants\n",
    "distance = 30.8  # Route Kilometer\n",
    "reverseTime = 3  # Reversal time in minutes"
   ]
  },
  {
   "cell_type": "markdown",
   "metadata": {},
   "source": [
    "### Function for calculating output based on passed parameteric values"
   ]
  },
  {
   "cell_type": "code",
   "execution_count": null,
   "metadata": {},
   "outputs": [],
   "source": [
    "def calculate_metrics(avgSpeed, carryCap3, phpdt):\n",
    "    \"\"\"\n",
    "    Calculate round trip time, headway, and number of trains needed.\n",
    "    \"\"\"\n",
    "    # Round Trip Time\n",
    "    rtt = (distance / avgSpeed) * 2 + reverseTime * 2 / 60\n",
    "\n",
    "    # Train Frequency required for clearing phpdt for Headway\n",
    "    tfh = phpdt / carryCap3\n",
    "    headway = 60 / tfh\n",
    "\n",
    "    # Number of trains needed for continuous operation\n",
    "    trainNos = rtt * 60 / headway\n",
    "    \n",
    "    return rtt, headway, trainNos"
   ]
  },
  {
   "cell_type": "markdown",
   "metadata": {},
   "source": [
    "### Plot the output"
   ]
  },
  {
   "cell_type": "code",
   "execution_count": null,
   "metadata": {},
   "outputs": [],
   "source": [
    "def plot_metrics(avgSpeed, carryCap3, phpdt):\n",
    "    \"\"\"\n",
    "    Generate the plot for the number of trains needed and headway.\n",
    "    \"\"\"\n",
    "    rtt, headway, trainNos = calculate_metrics(avgSpeed, carryCap3, phpdt)\n",
    "\n",
    "    print(f'Round Trip Time: {rtt:.2f} hrs, Headway: {headway:.2f} minutes, Number of Trains: {int(trainNos)}')\n",
    "\n",
    "    fig, ax = plt.subplots(figsize=(7, 5))  # Set figure size\n",
    "    metrics = ['Number of Trains', 'Headway (min)']\n",
    "    values = [trainNos, headway]\n",
    "    \n",
    "    ax.bar(metrics, values, width=0.5)\n",
    "    ax.set_title('Train Operational Metrics')\n",
    "    ax.set_ylim(0, 55)\n",
    "    ax.set_ylabel('Values')\n",
    "\n",
    "    for i, v in enumerate(values):\n",
    "        ax.text(i, v + 1, f\"{v:.2f}\", ha='center', va='bottom')\n",
    "\n",
    "    return fig"
   ]
  },
  {
   "cell_type": "markdown",
   "metadata": {},
   "source": [
    "### Update the paramateric value interactively to observe senstivity"
   ]
  },
  {
   "cell_type": "code",
   "execution_count": null,
   "metadata": {},
   "outputs": [],
   "source": [
    "def update(avgSpeed, carryCap3, phpdt):\n",
    "    \"\"\"\n",
    "    Update the output plot based on the slider values.\n",
    "    \"\"\"\n",
    "    out1.clear_output(wait=True)\n",
    "    with out1:\n",
    "        fig1 = plot_metrics(avgSpeed, carryCap3, phpdt)\n",
    "        plt.show(fig1)"
   ]
  },
  {
   "cell_type": "markdown",
   "metadata": {},
   "source": [
    "### Widget and others"
   ]
  },
  {
   "cell_type": "code",
   "execution_count": null,
   "metadata": {},
   "outputs": [],
   "source": [
    "# Widgets for interactive plots\n",
    "avgSpeed_slider = widgets.FloatSlider(value=35, min=30, max=45, step=0.5, description='Avg Speed (km/h)')\n",
    "carryCap3_slider = widgets.FloatSlider(value=750, min=700, max=920, step=10, description='Capacity (3 cars)')\n",
    "phpdt_slider = widgets.FloatSlider(value=15000, min=9000, max=30000, step=100, description='PHPDT')\n",
    "\n",
    "# Output widget for plots\n",
    "out1 = Output()\n",
    "\n",
    "# Interactive display\n",
    "ui = VBox([avgSpeed_slider, carryCap3_slider, phpdt_slider])\n",
    "interactive_plot = interactive_output(update, {'avgSpeed': avgSpeed_slider, 'carryCap3': carryCap3_slider, 'phpdt': phpdt_slider})"
   ]
  },
  {
   "cell_type": "markdown",
   "metadata": {},
   "source": [
    "### Show interactive plot"
   ]
  },
  {
   "cell_type": "code",
   "execution_count": null,
   "metadata": {},
   "outputs": [],
   "source": [
    "display(VBox([ui, out1, interactive_plot]))"
   ]
  },
  {
   "cell_type": "code",
   "execution_count": null,
   "metadata": {},
   "outputs": [],
   "source": []
  }
 ],
 "metadata": {
  "kernelspec": {
   "display_name": "Python 3 (ipykernel)",
   "language": "python",
   "name": "python3"
  },
  "language_info": {
   "codemirror_mode": {
    "name": "ipython",
    "version": 3
   },
   "file_extension": ".py",
   "mimetype": "text/x-python",
   "name": "python",
   "nbconvert_exporter": "python",
   "pygments_lexer": "ipython3",
   "version": "3.11.4"
  }
 },
 "nbformat": 4,
 "nbformat_minor": 4
}
