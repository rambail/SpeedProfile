{
 "cells": [
  {
   "cell_type": "code",
   "execution_count": 1,
   "id": "583c143f-ebe2-40f1-ac7c-c9552e92539f",
   "metadata": {},
   "outputs": [],
   "source": [
    "import numpy as np\n",
    "import pandas as pd\n",
    "import matplotlib.pyplot as plt\n"
   ]
  },
  {
   "cell_type": "code",
   "execution_count": 2,
   "id": "760f418c-d579-4c19-967a-2129cb271395",
   "metadata": {},
   "outputs": [],
   "source": [
    "# Load the CSV files\n",
    "# The CSV files contain the input parameters\n",
    "train_params = pd.read_csv('train_parameters.csv') # Train parameters\n",
    "stations = pd.read_csv('stations.csv') # Station and their chainage\n",
    "curves = pd.read_csv('curves.csv') # Curves data including start, end, radius\n",
    "gradients = pd.read_csv('gradients.csv') # Gradient data including start, end\n",
    "speed_restrictions = pd.read_csv('sr.csv') # Speed restriction associated with curve\n",
    "\n",
    "# Load the train parameters CSV file\n",
    "train_params = pd.read_csv('train_parameters.csv')\n",
    "\n",
    "#print(speed_restrictions.columns)\n",
    "#print(curves.columns)\n"
   ]
  },
  {
   "cell_type": "code",
   "execution_count": 3,
   "id": "950d7ede-ebff-4292-af73-7c4db6981629",
   "metadata": {},
   "outputs": [],
   "source": [
    "# Convert the 'Value' column to a dictionary for easy access\n",
    "train_params_dict = pd.Series(train_params.Value.values, index=train_params.Parameter).to_dict()\n",
    "\n",
    "# Extract values from the dictionary\n",
    "acceleration = float(train_params_dict['Acceleration_rate_1'])\n",
    "acceleration_switch = float(train_params_dict['Acceleration_rate_2'])\n",
    "switch_speed = float(train_params_dict['Switch_speed'])\n",
    "braking_deceleration = float(train_params_dict['Braking_rate'])\n",
    "max_speed = float(train_params_dict['Maximum_speed']) * 5/18 # Assuming the speed is in km/h, convert to m/s\n",
    "static_friction = float(train_params_dict['Static_friction'])\n",
    "rolling_resistance = float(train_params_dict['Rolling_resistance'])\n",
    "air_resistance = float(train_params_dict['Air_resistance'])\n",
    "mass = float(train_params_dict['Train_mass'])  # Train weight in tons\n",
    "#power = float(train_params_dict['Power'])  # Power in kW\n",
    "mc_mass = float(train_params_dict['MC_mass'])  # Motor car weight\n",
    "tc_mass = float(train_params_dict['TC_mass'])  # Trailer Car weight\n",
    "starting_resistance = float(train_params_dict['Starting_resistance'])  # Starting resistance of train\n",
    "inertia_mass_m = float(train_params_dict['Inertia_mass_m'])  # Intertial coefficient of motor car\n",
    "inertia_mass_t = float(train_params_dict['Inertia_mass_t'])  # Intertial coefficient of trailer car\n",
    "motor_nos = float(train_params_dict['Motor_nos'])  # Number of driving motors in train\n",
    "regen_efficiency = float(train_params_dict['Regeneration_efficiency'])  # Efficiency of regeneration\n"
   ]
  },
  {
   "cell_type": "code",
   "execution_count": 4,
   "id": "3f1cce6e-6a23-4223-9bf8-31e881f2dac3",
   "metadata": {},
   "outputs": [],
   "source": [
    "# Function to calculate resistance using Davis formula\n",
    "def calculate_resistance_per_ton(v):\n",
    "    return (static_friction + rolling_resistance * v + air_resistance * v**2) * mass\n"
   ]
  },
  {
   "cell_type": "code",
   "execution_count": 5,
   "id": "e87bfa14-8ff9-4277-8734-b1fb12fdbd2f",
   "metadata": {},
   "outputs": [],
   "source": [
    "# Constants and parameters (sample values)\n",
    "g = 9.81  # gravitational acceleration in m/s²\n",
    "distance_total = 1000  # Distance between stations in meters (1 km)\n",
    "speed = 0\n",
    "\n",
    "# Train parameters (example)\n",
    "station_stop_time = 30  # seconds (stop time at station)\n"
   ]
  },
  {
   "cell_type": "code",
   "execution_count": 6,
   "id": "12166126-2c51-4c70-9e1d-75e2228e389c",
   "metadata": {},
   "outputs": [],
   "source": [
    "# Speed restrictions (start chainage, end chainage, restricted speed)\n",
    "speed_restrictions = [\n",
    "    {'start': 300, 'end': 500, 'restricted_speed': 15.0},  # speed restriction example\n",
    "]"
   ]
  },
  {
   "cell_type": "code",
   "execution_count": 7,
   "id": "8d68b691-a3e1-42c8-9ea9-e0f52f0b90cc",
   "metadata": {},
   "outputs": [],
   "source": [
    "def acceleration_phase(v_initial, v_final, accel):\n",
    "    time_accel = (v_final - v_initial) / accel\n",
    "    v = np.linspace(v_initial, v_final, 100)\n",
    "    t = np.linspace(0, time_accel, 100)\n",
    "\n",
    "    P_accel = []\n",
    "    for speed in v:\n",
    "        R = calculate_resistance_per_ton(speed)  # Resistance in N\n",
    "        force = mass * accel + R  # Total force\n",
    "        power = force * speed  # Power = Force * Velocity\n",
    "        P_accel.append(power)\n",
    "\n",
    "    # Energy consumed during acceleration (integrating power over time)\n",
    "    energy_accel = np.trapz(P_accel, t)\n",
    "    # Distance covered during acceleration\n",
    "    distance_accel = 0.5 * accel * time_accel**2\n",
    "    return energy_accel, distance_accel, time_accel"
   ]
  },
  {
   "cell_type": "code",
   "execution_count": 8,
   "id": "ec7aa270-3c47-4dc5-82c0-48a6b5d09fbd",
   "metadata": {},
   "outputs": [],
   "source": [
    "# Coasting phase (speed reduces due to resistance)\n",
    "def coasting_phase(v_initial, distance_remaining, distance_braking):\n",
    "    v = [v_initial]\n",
    "    distance_coasted = 0\n",
    "    dt = 1  # time step in seconds\n",
    "    while distance_coasted < distance_remaining - distance_braking:\n",
    "        R = calculate_resistance_per_ton(v[-1])  # Resistance in N\n",
    "        decel_due_to_resistance = R / mass /1000  # Deceleration caused by resistance\n",
    "        new_speed = v[-1] - decel_due_to_resistance * dt  # Speed reduces due to resistance\n",
    "\n",
    "        if new_speed <= 0:  # Train would stop, but we limit the speed reduction\n",
    "            break\n",
    "\n",
    "        v.append(new_speed)\n",
    "        distance_coasted += new_speed * dt\n",
    "    time_coast = len(v) * dt  # Total time spent coasting\n",
    "    return 0, distance_coasted, time_coast  # No energy consumed during coasting\n"
   ]
  },
  {
   "cell_type": "code",
   "execution_count": 9,
   "id": "088a3fa7-c042-4b0c-b840-be8f220ce899",
   "metadata": {},
   "outputs": [],
   "source": [
    "# Braking phase\n",
    "def braking_phase(v_initial, v_final, decel):\n",
    "    time_brake = (v_initial - v_final) / decel\n",
    "    v = np.linspace(v_initial, v_final, 100)\n",
    "    t = np.linspace(0, time_brake, 100)\n",
    "\n",
    "    P_brake = []\n",
    "    for speed in v:\n",
    "        R = calculate_resistance_per_ton(speed)  # Resistance in N\n",
    "        F_brake = mass * decel  # Braking force\n",
    "        F_net = F_brake - R  # Net braking force (braking - resistance)\n",
    "        power_braking = F_net * speed  # Power during braking\n",
    "        P_brake.append(-power_braking)  # Negative power (deceleration)\n",
    "\n",
    "    # Total energy consumed during braking\n",
    "    total_energy_brake = np.trapz(P_brake, t)\n",
    "    # Regenerated energy (50% of braking energy is recovered)\n",
    "    energy_regen = -total_energy_brake * regen_efficiency\n",
    "    # Net energy used during braking\n",
    "    net_energy_brake = total_energy_brake + energy_regen\n",
    "    # Distance covered during braking\n",
    "    distance_brake = 0.5 * decel * time_brake**2\n",
    "    return net_energy_brake, distance_brake, time_brake\n"
   ]
  },
  {
   "cell_type": "code",
   "execution_count": 10,
   "id": "bda78802-2f20-41b8-97e9-de8198cd7d20",
   "metadata": {},
   "outputs": [],
   "source": [
    "# Handle speed restrictions\n",
    "def handle_speed_restriction(v_initial, restricted_speed, restriction_distance):\n",
    "    # Braking to restricted speed\n",
    "    energy_brake = braking_phase(v_initial, restricted_speed, braking_deceleration) * (-0.5)\n",
    "    \n",
    "    # Cruising at restricted speed\n",
    "    energy_cruise = cruise_phase(restricted_speed, restriction_distance)\n",
    "    \n",
    "    return energy_brake + energy_cruise\n"
   ]
  },
  {
   "cell_type": "code",
   "execution_count": 11,
   "id": "e633539e-fb77-415e-bd93-d104cb5ee465",
   "metadata": {},
   "outputs": [
    {
     "name": "stdout",
     "output_type": "stream",
     "text": [
      "753.0864197530864 205.76131687242798\n"
     ]
    },
    {
     "ename": "NameError",
     "evalue": "name 'total_energy' is not defined",
     "output_type": "error",
     "traceback": [
      "\u001b[1;31m---------------------------------------------------------------------------\u001b[0m",
      "\u001b[1;31mNameError\u001b[0m                                 Traceback (most recent call last)",
      "Cell \u001b[1;32mIn[11], line 59\u001b[0m\n\u001b[0;32m     55\u001b[0m     plt\u001b[38;5;241m.\u001b[39mshow()\n\u001b[0;32m     58\u001b[0m \u001b[38;5;66;03m# Run the simulation\u001b[39;00m\n\u001b[1;32m---> 59\u001b[0m \u001b[43msimulate_train_run\u001b[49m\u001b[43m(\u001b[49m\u001b[38;5;241;43m0\u001b[39;49m\u001b[43m)\u001b[49m\n",
      "Cell \u001b[1;32mIn[11], line 19\u001b[0m, in \u001b[0;36msimulate_train_run\u001b[1;34m(speed)\u001b[0m\n\u001b[0;32m     16\u001b[0m energy_brake, distance_brake, time_brake \u001b[38;5;241m=\u001b[39m braking_phase(max_speed, \u001b[38;5;241m0\u001b[39m, braking_deceleration)\n\u001b[0;32m     18\u001b[0m \u001b[38;5;66;03m# Convert energy from joules to kWh\u001b[39;00m\n\u001b[1;32m---> 19\u001b[0m total_energy_kwh \u001b[38;5;241m=\u001b[39m \u001b[43mtotal_energy\u001b[49m \u001b[38;5;241m/\u001b[39m \u001b[38;5;241m3600000\u001b[39m  \u001b[38;5;66;03m# 1 kWh = 3.6 million joules\u001b[39;00m\n\u001b[0;32m     21\u001b[0m \u001b[38;5;66;03m# Average power for the entire journey (in watts)\u001b[39;00m\n\u001b[0;32m     22\u001b[0m average_power \u001b[38;5;241m=\u001b[39m total_energy \u001b[38;5;241m/\u001b[39m total_time  \u001b[38;5;66;03m# Average power in watts\u001b[39;00m\n",
      "\u001b[1;31mNameError\u001b[0m: name 'total_energy' is not defined"
     ]
    }
   ],
   "source": [
    "# Simulation of the train journey\n",
    "def simulate_train_run(speed):\n",
    "    # 1. Acceleration to maximum speed\n",
    "    if speed < max_speed: \n",
    "        energy_accel, distance_accel, time_accel = acceleration_phase(0, max_speed, acceleration)\n",
    "        speed = max_speed\n",
    "\n",
    "    # 2. Coasting phase (losing speed due to resistance)\n",
    "    distance_remaining = distance_total - distance_accel\n",
    "    distance_braking = max_speed**2/2/braking_deceleration\n",
    "    print(distance_remaining,distance_braking)\n",
    "    if distance_remaining > distance_braking:\n",
    "        energy_coast, distance_coast, time_coast = coasting_phase(max_speed, distance_remaining, distance_braking)  # Coast half the remaining distance\n",
    "\n",
    "    # 3. Braking phase to stop at the station\n",
    "    energy_brake, distance_brake, time_brake = braking_phase(max_speed, 0, braking_deceleration)\n",
    "\n",
    "    # Total energy consumed (note: no energy during coasting)\n",
    "    total_energy = energy_accel + energy_brake\n",
    "\n",
    "    # Convert energy from joules to kWh\n",
    "    total_energy_kwh = total_energy / 3600000  # 1 kWh = 3.6 million joules\n",
    "\n",
    "    # Average power for the entire journey (in watts)\n",
    "    average_power = total_energy / total_time  # Average power in watts\n",
    "    average_power_kwh = average_power / 1000  # Convert watts to kilowatts\n",
    "\n",
    "    # Output the results\n",
    "    print(f\"Total Energy Consumed: {total_energy_kwh:.2f} kWh\")\n",
    "    print(f\"Average Power: {average_power_kwh:.2f} kW\")  # Convert watts to kilowatts\n",
    "    print(f\"Energy Recovered (Regeneration): {energy_brake * regen_efficiency / 3600000:.2f} kWh\")\n",
    "    print(f\"Net Energy Used: {(total_energy - energy_brake * regen_efficiency) / 3600000:.2f} kWh\")\n",
    "    print(f\"Total Time Taken: {total_time:.2f} seconds\")\n",
    "\n",
    "    # Create the time and speed arrays for each phase\n",
    "    t_accel = np.linspace(0, time_accel, 100)  # Acceleration phase\n",
    "    t_coast = np.linspace(time_accel, time_accel + time_coast, 100)  # Coasting phase\n",
    "    t_brake = np.linspace(time_accel + time_coast, total_time, 100)  # Braking phase\n",
    "\n",
    "    # Speed points for each phase\n",
    "    v_accel = np.linspace(0, v_max, 100)  # Speed increases during acceleration\n",
    "    v_coast = np.full(100, v_max)  # Speed is constant during coasting\n",
    "    v_brake = np.linspace(v_max, 0, 100)  # Speed decreases during braking\n",
    "\n",
    "    # Concatenate the times and speeds for a continuous plot\n",
    "    time_total = np.concatenate((t_accel, t_coast, t_brake))\n",
    "    speed_total = np.concatenate((v_accel, v_coast, v_brake))\n",
    "\n",
    "    # Plot the speed vs time\n",
    "    plt.plot(time_total, speed_total)\n",
    "    plt.xlabel('Time (s)')\n",
    "    plt.ylabel('Speed (m/s)')\n",
    "    plt.title('Speed Profile of the Metro Train')\n",
    "    plt.grid(True)\n",
    "    plt.show()\n",
    "\n",
    "# Run the simulation\n",
    "simulate_train_run(0)\n"
   ]
  },
  {
   "cell_type": "code",
   "execution_count": null,
   "id": "512cca67-9204-4edd-8ee3-23f31f198c8c",
   "metadata": {},
   "outputs": [],
   "source": [
    "\n",
    "# Running the simulation\n",
    "total_energy = total_energy_run()\n",
    "print(f\"Total energy consumed in the run: {total_energy / 3.6e6:.2f} MWh\")\n"
   ]
  },
  {
   "cell_type": "code",
   "execution_count": null,
   "id": "1cbdaf6a-adbc-49fe-9899-fe7851180add",
   "metadata": {},
   "outputs": [],
   "source": [
    "# Constants\n",
    "SEC = 50  # Specific Energy Consumption in Wh/ton-km or KWh/1000 ton\n",
    "mass_in_tons = 200  # Train mass in tons\n",
    "distance_in_km = 30  # Distance traveled in kilometers (example)\n",
    "Unit_charge = 7 # Per unit charge in Rupees per KWh\n",
    "\n",
    "\n",
    "# Step 1: Calculate total energy consumption using SEC\n",
    "total_energy_wh = SEC * mass_in_tons * distance_in_km / 1000 # in KWh\n",
    "\n",
    "# Step 2: Calculate Energy charges\n",
    "energy_bill = total_energy_wh * 7 \n",
    "\n",
    "\n",
    "# Output the results\n",
    "print(f\"Total Energy Consumption: {total_energy_wh:.2f} KWh\")\n",
    "print(f\"Energy Charges: Rs. {energy_bill:.2f} \")\n"
   ]
  },
  {
   "cell_type": "code",
   "execution_count": null,
   "id": "939354fc-82cf-41d7-8e70-da9282b16739",
   "metadata": {},
   "outputs": [],
   "source": []
  }
 ],
 "metadata": {
  "kernelspec": {
   "display_name": "Python 3 (ipykernel)",
   "language": "python",
   "name": "python3"
  },
  "language_info": {
   "codemirror_mode": {
    "name": "ipython",
    "version": 3
   },
   "file_extension": ".py",
   "mimetype": "text/x-python",
   "name": "python",
   "nbconvert_exporter": "python",
   "pygments_lexer": "ipython3",
   "version": "3.11.4"
  }
 },
 "nbformat": 4,
 "nbformat_minor": 5
}
