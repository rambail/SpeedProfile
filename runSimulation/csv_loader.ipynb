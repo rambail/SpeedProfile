{
 "cells": [
  {
   "cell_type": "code",
   "execution_count": 1,
   "id": "de6bdda2-b853-48c1-8468-b4cf0afa51fb",
   "metadata": {},
   "outputs": [],
   "source": [
    "#!jupyter nbconvert --to script csv_loader.ipynb"
   ]
  },
  {
   "cell_type": "code",
   "execution_count": 2,
   "id": "4dc02403-f406-4870-9f78-528aa58cf2e8",
   "metadata": {},
   "outputs": [],
   "source": [
    "import pandas as pd\n",
    "import os\n",
    "\n",
    "class CSVLoader:\n",
    "    def __init__(self, csv_dir=\"csv\"):\n",
    "        self.csv_dir = csv_dir  # Directory where CSV files are stored\n",
    "\n",
    "    def load_parameters_from_csv(self, csv_path):\n",
    "        \"\"\"Loads a CSV file and returns data as a dictionary or DataFrame.\"\"\"\n",
    "        file_path = os.path.join(self.csv_dir, csv_path)\n",
    "        df = pd.read_csv(file_path)\n",
    "        if csv_path == 'train_parameters.csv':\n",
    "            # Convert specific CSV to a dictionary with key-value pairs\n",
    "            return df.set_index('Parameter')['Value'].to_dict()\n",
    "        else:\n",
    "            # Return DataFrame for other CSV files\n",
    "            return df\n",
    "\n",
    "    def load_csv_list(self, csv_files):\n",
    "        \"\"\"Loads multiple CSV files based on a list of tuples (filename, label).\"\"\"\n",
    "        data_dict = {}\n",
    "        for csv_path, label in csv_files:\n",
    "            data_dict[label] = self.load_parameters_from_csv(csv_path)\n",
    "        return data_dict\n"
   ]
  }
 ],
 "metadata": {
  "kernelspec": {
   "display_name": "Python 3 (ipykernel)",
   "language": "python",
   "name": "python3"
  },
  "language_info": {
   "codemirror_mode": {
    "name": "ipython",
    "version": 3
   },
   "file_extension": ".py",
   "mimetype": "text/x-python",
   "name": "python",
   "nbconvert_exporter": "python",
   "pygments_lexer": "ipython3",
   "version": "3.12.6"
  }
 },
 "nbformat": 4,
 "nbformat_minor": 5
}
