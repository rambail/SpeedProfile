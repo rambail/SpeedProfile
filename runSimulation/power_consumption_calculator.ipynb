{
 "cells": [
  {
   "cell_type": "code",
   "execution_count": 1,
   "id": "4f09eb92-abfd-4e79-b2e7-f57ec04c2cce",
   "metadata": {},
   "outputs": [
    {
     "name": "stderr",
     "output_type": "stream",
     "text": [
      "[NbConvertApp] Converting notebook power_consumption_calculator.ipynb to script\n",
      "[NbConvertApp] Writing 1107 bytes to power_consumption_calculator.py\n"
     ]
    }
   ],
   "source": [
    "#!jupyter nbconvert --to script power_consumption_calculator.ipynb"
   ]
  },
  {
   "cell_type": "code",
   "execution_count": 2,
   "id": "e11df304-cd58-4b82-bc02-15aab7d9a116",
   "metadata": {},
   "outputs": [],
   "source": [
    "import numpy as np\n",
    "\n",
    "class PowerConsumptionCalculator:\n",
    "    def __init__(self, mass, regen_efficiency):\n",
    "        self.mass = mass\n",
    "        self.regen_efficiency = regen_efficiency\n",
    "        self.power_log = []\n",
    "\n",
    "    def log_power_during_acceleration(self, speed, acceleration):\n",
    "        force = self.mass * 1000 * acceleration  # Force in Newtons\n",
    "        power = force * speed  # Power in Watts\n",
    "        self.power_log.append(power)\n",
    "\n",
    "    def log_power_during_braking(self, speed, braking_deceleration):\n",
    "        force = self.mass * 1000 * braking_deceleration  # Force in Newtons\n",
    "        power = force * speed  # Power in Watts\n",
    "        self.power_log.append(-power * self.regen_efficiency)  # Regenerated power\n",
    "\n",
    "    def calculate_energy_consumed(self):\n",
    "        energy_consumed_joules = np.trapezoid(self.power_log, dx=1)  # Integration over time\n",
    "        energy_consumed_kwh = energy_consumed_joules / 3_600_000  # Convert to kWh\n",
    "        return energy_consumed_kwh\n"
   ]
  }
 ],
 "metadata": {
  "kernelspec": {
   "display_name": "Python 3 (ipykernel)",
   "language": "python",
   "name": "python3"
  },
  "language_info": {
   "codemirror_mode": {
    "name": "ipython",
    "version": 3
   },
   "file_extension": ".py",
   "mimetype": "text/x-python",
   "name": "python",
   "nbconvert_exporter": "python",
   "pygments_lexer": "ipython3",
   "version": "3.12.6"
  }
 },
 "nbformat": 4,
 "nbformat_minor": 5
}
