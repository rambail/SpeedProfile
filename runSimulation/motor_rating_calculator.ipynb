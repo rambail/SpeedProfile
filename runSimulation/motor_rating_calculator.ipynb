{
 "cells": [
  {
   "cell_type": "code",
   "execution_count": 1,
   "id": "795139f3-0c36-41dc-9259-b95171460d61",
   "metadata": {},
   "outputs": [
    {
     "name": "stderr",
     "output_type": "stream",
     "text": [
      "[NbConvertApp] Converting notebook motor_rating_calculator.ipynb to script\n",
      "[NbConvertApp] Writing 792 bytes to motor_rating_calculator.py\n"
     ]
    }
   ],
   "source": [
    "#!jupyter nbconvert --to script motor_rating_calculator.ipynb"
   ]
  },
  {
   "cell_type": "code",
   "execution_count": 2,
   "id": "7d274b02-9279-4136-bfce-d47d0bee4612",
   "metadata": {},
   "outputs": [],
   "source": [
    "class MotorRatingCalculator:\n",
    "    def __init__(self, power_calculator, avg_speed_calculator):\n",
    "        self.power_calculator = power_calculator\n",
    "        self.avg_speed_calculator = avg_speed_calculator\n",
    "\n",
    "    def display_motor_rating(self):\n",
    "        energy_consumed_kwh = self.power_calculator.calculate_energy_consumed()\n",
    "        avg_speeds = self.avg_speed_calculator.get_section_average_speeds()\n",
    "\n",
    "        print(f\"Total energy consumed during the run: {energy_consumed_kwh:.3f} kWh\")\n",
    "        print(\"Average speeds for each section (km/h):\")\n",
    "        for i, speed in enumerate(avg_speeds, start=1):\n",
    "            print(f\"Section {i}: {speed:.2f} km/h\")\n"
   ]
  }
 ],
 "metadata": {
  "kernelspec": {
   "display_name": "Python 3 (ipykernel)",
   "language": "python",
   "name": "python3"
  },
  "language_info": {
   "codemirror_mode": {
    "name": "ipython",
    "version": 3
   },
   "file_extension": ".py",
   "mimetype": "text/x-python",
   "name": "python",
   "nbconvert_exporter": "python",
   "pygments_lexer": "ipython3",
   "version": "3.12.6"
  }
 },
 "nbformat": 4,
 "nbformat_minor": 5
}
