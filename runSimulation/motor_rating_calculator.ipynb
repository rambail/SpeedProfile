{
 "cells": [
  {
   "cell_type": "code",
   "execution_count": 1,
   "id": "795139f3-0c36-41dc-9259-b95171460d61",
   "metadata": {},
   "outputs": [],
   "source": [
    "#!jupyter nbconvert --to script motor_rating_calculator.ipynb"
   ]
  },
  {
   "cell_type": "code",
   "execution_count": 2,
   "id": "7d274b02-9279-4136-bfce-d47d0bee4612",
   "metadata": {},
   "outputs": [],
   "source": [
    "class MotorRatingCalculator:\n",
    "    def __init__(self, train_params):\n",
    "        self.train_params = train_params\n",
    "        self.train_mass = float(self.train_params['Train_mass'])\n",
    "        self.starting_resistance = float(self.train_params['Starting_resistance'])\n",
    "        self.mc_mass = float(self.train_params['Mc_mass'])\n",
    "        self.tc_mass = float(self.train_params['Tc_mass'])\n",
    "        self.inertia_mass_m = float(self.train_params['Inertia_mass_m'])\n",
    "        self.inertia_mass_t = float(self.train_params['Inertia_mass_t'])\n",
    "        self.acceleration = float(self.train_params['Acceleration'])\n",
    "        self.switch_speed = float(self.train_params['Switch_speed']) * 1000 / 3600\n",
    "        self.motor_nos = float(self.train_params['Motor_nos'])\n",
    "\n",
    "    def display_motor_rating(self):\n",
    "        te_start = self.train_mass * self.starting_resistance / 1000 # Starting Effort in kN\n",
    "        te_rolling = (self.train_mass + \n",
    "                      self.mc_mass * self.inertia_mass_m * 2 + \n",
    "                     self.tc_mass * self.inertia_mass_t) * self.acceleration # Moving Effort\n",
    "        te_total = te_start + te_rolling # Total Effort\n",
    "        te_motor = te_total / self.motor_nos # Effort per Motor\n",
    "        motor_rating = te_motor * self.switch_speed  # Motor Rating\n",
    "        return motor_rating\n",
    "\n",
    "   \n"
   ]
  }
 ],
 "metadata": {
  "kernelspec": {
   "display_name": "Python 3 (ipykernel)",
   "language": "python",
   "name": "python3"
  },
  "language_info": {
   "codemirror_mode": {
    "name": "ipython",
    "version": 3
   },
   "file_extension": ".py",
   "mimetype": "text/x-python",
   "name": "python",
   "nbconvert_exporter": "python",
   "pygments_lexer": "ipython3",
   "version": "3.12.7"
  }
 },
 "nbformat": 4,
 "nbformat_minor": 5
}
