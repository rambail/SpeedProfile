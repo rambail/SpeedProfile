{
 "cells": [
  {
   "cell_type": "code",
   "execution_count": 1,
   "id": "0fff6419-c089-43e2-9a85-04149cd742a2",
   "metadata": {},
   "outputs": [],
   "source": [
    "#!jupyter nbconvert --to script train_resistance.ipynb"
   ]
  },
  {
   "cell_type": "code",
   "execution_count": 2,
   "id": "985c3491-7182-4baf-8286-2c2f0bd30440",
   "metadata": {},
   "outputs": [],
   "source": [
    "class TrainResistance:\n",
    "    def __init__(self, train_params, speed):\n",
    "        self.speed = speed\n",
    "        self.train_params = train_params\n",
    "        # Additional initialization...\n",
    "    \n",
    "    def calculate_davis_resistance(self):\n",
    "        train_mass = float(self.train_params['Train_mass'])\n",
    "        static_friction = float(self.train_params['Static_friction'])\n",
    "        rolling_resistance = float(self.train_params['Rolling_resistance'])\n",
    "        air_resistance = float(self.train_params['Air_resistance'])\n",
    "        return (static_friction + rolling_resistance * self.speed + air_resistance * self.speed**2) * train_mass\n"
   ]
  }
 ],
 "metadata": {
  "kernelspec": {
   "display_name": "Python 3 (ipykernel)",
   "language": "python",
   "name": "python3"
  },
  "language_info": {
   "codemirror_mode": {
    "name": "ipython",
    "version": 3
   },
   "file_extension": ".py",
   "mimetype": "text/x-python",
   "name": "python",
   "nbconvert_exporter": "python",
   "pygments_lexer": "ipython3",
   "version": "3.12.7"
  }
 },
 "nbformat": 4,
 "nbformat_minor": 5
}
