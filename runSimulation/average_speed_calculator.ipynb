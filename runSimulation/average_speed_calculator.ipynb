{
 "cells": [
  {
   "cell_type": "code",
   "execution_count": 1,
   "id": "83d423a8-9558-4674-8b3c-16546529a304",
   "metadata": {},
   "outputs": [
    {
     "name": "stderr",
     "output_type": "stream",
     "text": [
      "[NbConvertApp] Converting notebook average_speed_calculator.ipynb to script\n",
      "[NbConvertApp] Writing 574 bytes to average_speed_calculator.py\n"
     ]
    }
   ],
   "source": [
    "#!jupyter nbconvert --to script average_speed_calculator.ipynb"
   ]
  },
  {
   "cell_type": "code",
   "execution_count": 2,
   "id": "8eec5425-1f50-4bb1-a7d6-0683f36ac061",
   "metadata": {},
   "outputs": [],
   "source": [
    "class AverageSpeedCalculator:\n",
    "    def __init__(self):\n",
    "        self.section_avg_speed = []\n",
    "\n",
    "    def calculate_segment_average_speed(self, segment_distance, segment_time):\n",
    "        avg_speed = (segment_distance / segment_time) * 18 / 5  # Convert m/s to km/h\n",
    "        self.section_avg_speed.append(avg_speed)\n",
    "        return avg_speed\n",
    "\n",
    "    def get_section_average_speeds(self):\n",
    "        return self.section_avg_speed\n"
   ]
  },
  {
   "cell_type": "code",
   "execution_count": null,
   "id": "9a989968-31b7-4f4c-8499-52ca6357779e",
   "metadata": {},
   "outputs": [],
   "source": []
  }
 ],
 "metadata": {
  "kernelspec": {
   "display_name": "Python 3 (ipykernel)",
   "language": "python",
   "name": "python3"
  },
  "language_info": {
   "codemirror_mode": {
    "name": "ipython",
    "version": 3
   },
   "file_extension": ".py",
   "mimetype": "text/x-python",
   "name": "python",
   "nbconvert_exporter": "python",
   "pygments_lexer": "ipython3",
   "version": "3.12.6"
  }
 },
 "nbformat": 4,
 "nbformat_minor": 5
}
