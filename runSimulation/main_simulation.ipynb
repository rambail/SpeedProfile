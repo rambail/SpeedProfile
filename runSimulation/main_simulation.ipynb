{
 "cells": [
  {
   "cell_type": "code",
   "execution_count": 1,
   "id": "7ac87cb0-1d30-495f-a932-cccd8a0c71f1",
   "metadata": {},
   "outputs": [
    {
     "name": "stdout",
     "output_type": "stream",
     "text": [
      "[7.2]\n"
     ]
    }
   ],
   "source": [
    "import pandas as pd\n",
    "\n",
    "from average_speed_calculator import AverageSpeedCalculator\n",
    "from power_consumption_calculator import PowerConsumptionCalculator\n",
    "from motor_rating_calculator import MotorRatingCalculator\n",
    "from csv_loader import CSVLoader  # Import the new CSVLoader class\n",
    "\n",
    "class TrainSimulation:\n",
    "    def __init__(self, \n",
    "                 train_params_dict:dict, \n",
    "                 stations:pd.core.frame.DataFrame, \n",
    "                 curves:pd.core.frame.DataFrame,\n",
    "                 gradients:pd.core.frame.DataFrame, \n",
    "                 speed_restrictions:pd.core.frame.DataFrame,):\n",
    "\n",
    "        self.train_params_dict = train_params_dict\n",
    "        self.stations = stations\n",
    "        self.curves = curves\n",
    "        self.gradients = gradients\n",
    "        self.speed_restrictions = speed_restrictions\n",
    "\n",
    "        self.time = 0\n",
    "        self.speed = 0\n",
    "        self.time_log = []\n",
    "        self.speed_log = []\n",
    "\n",
    "        self.average_speed_calculator = AverageSpeedCalculator()\n",
    "        self.power_calculator = PowerConsumptionCalculator(\n",
    "            float(train_params_dict['Train_mass']), \n",
    "            float(train_params_dict['Regeneration_efficiency'])\n",
    "        )\n",
    "        self.motor_rating_calculator = MotorRatingCalculator(self.power_calculator, self.average_speed_calculator)\n",
    "        self.derived_values()\n",
    "\n",
    "    # Derive the values from the passed arrays\n",
    "    def derived_values(self):\n",
    "        # Check coasting allowed\n",
    "        self.no_coasting = False if train_params_dict['Coasting'] else True # Whether 'Coast' or not\n",
    "\n",
    "        # Convert speeds from km/h to m/s\n",
    "        self.max_speed = float(train_params_dict['Maximum_speed'])  * 1000 / 3600\n",
    "        self.switch_speed = float(train_params_dict['Switch_speed'])  * 1000 / 3600\n",
    "\n",
    "        # Extract the chainage and station names into list\n",
    "        self.station_chainages = stations['Chainage'].values\n",
    "        self.station_names = stations['Station_Name'].values\n",
    "\n",
    "        # Distance calculations for controlling different run phase\n",
    "        self.accelerating_distance = self.max_speed**2/2/float(train_params_dict['Acceleration_switch'])\n",
    "        self.braking_distance = self.max_speed**2/2/float(train_params_dict['Braking_deceleration'])\n",
    "        return \n",
    "    \n",
    "    # Davis formula for resistance\n",
    "    def davis(self, speed):\n",
    "        static_friction = float(train_params_dict['Static_friction'])\n",
    "        rolling_resistance = float(train_params_dict['Rolling_resistance'])\n",
    "        air_resistance = float(train_params_dict['Air_resistance'])\n",
    "        train_mass = float(train_params_dict['Train_mass'])\n",
    "        return (static_friction + rolling_resistance * speed + air_resistance * speed**2) * train_mass\n",
    "\n",
    "    # Helper function to log time and speed\n",
    "    def log_simulation_data(self, time, speed):\n",
    "        self.time_log.append(time / 60)  # Convert time to minutes for logging\n",
    "        self.speed_log.append(speed * 18 / 5)  # Convert m/s to km/h for logging   \n",
    "        \n",
    "    def print_values(self):\n",
    "        self.log_simulation_data(1,2)\n",
    "        return self.speed_log\n",
    "\n",
    "    \n",
    "    def run_simulation(self):\n",
    "        # Implement the simulation logic here using the imported classes\n",
    "        pass\n",
    "\n",
    "if __name__ == \"__main__\":\n",
    "    # Initialize the CSV loader\n",
    "    csv_loader = CSVLoader()\n",
    "\n",
    "    # List of CSV files and their labels\n",
    "    csv_files = [\n",
    "        ('train_parameters.csv', 'train_params'),\n",
    "        ('stations.csv', 'stations'),\n",
    "        ('curves.csv', 'curves'),\n",
    "        ('gradients.csv', 'gradients'),\n",
    "        ('sr.csv', 'speed_restrictions')\n",
    "    ]\n",
    "    \n",
    "    # Load data from CSV files\n",
    "    data_dict = csv_loader.load_csv_list(csv_files)\n",
    "\n",
    "    # Access the loaded data\n",
    "    train_params_dict = data_dict['train_params']\n",
    "    stations = data_dict['stations']\n",
    "    curves = data_dict['curves']\n",
    "    gradients = data_dict['gradients']\n",
    "    speed_restrictions = data_dict['speed_restrictions']\n",
    "\n",
    "    # Initialize the TrainSimulation class with parameters from the CSV\n",
    "    simulation = TrainSimulation(train_params_dict, stations, curves, gradients, speed_restrictions)\n",
    "    \n",
    "    print(simulation.print_values())\n",
    "\n",
    "    # Run the simulation\n",
    "    simulation.run_simulation()\n"
   ]
  },
  {
   "cell_type": "code",
   "execution_count": 2,
   "id": "c70a260d-da44-44fc-b24b-73bbfce10adf",
   "metadata": {},
   "outputs": [
    {
     "name": "stdout",
     "output_type": "stream",
     "text": [
      "1.0\n"
     ]
    }
   ],
   "source": [
    "print(float(train_params_dict['Acceleration']))"
   ]
  },
  {
   "cell_type": "code",
   "execution_count": null,
   "id": "0c7c5ff3-40f9-433c-9430-dd6a8c39405e",
   "metadata": {},
   "outputs": [],
   "source": []
  }
 ],
 "metadata": {
  "kernelspec": {
   "display_name": "Python 3 (ipykernel)",
   "language": "python",
   "name": "python3"
  },
  "language_info": {
   "codemirror_mode": {
    "name": "ipython",
    "version": 3
   },
   "file_extension": ".py",
   "mimetype": "text/x-python",
   "name": "python",
   "nbconvert_exporter": "python",
   "pygments_lexer": "ipython3",
   "version": "3.12.6"
  }
 },
 "nbformat": 4,
 "nbformat_minor": 5
}
