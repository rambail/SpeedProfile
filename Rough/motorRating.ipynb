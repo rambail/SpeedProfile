{
 "cells": [
  {
   "cell_type": "code",
   "execution_count": 1,
   "id": "e4c76f38-1cd1-42b5-a43f-498b55418310",
   "metadata": {},
   "outputs": [
    {
     "name": "stdout",
     "output_type": "stream",
     "text": [
      "Motor rating required: 622.67 kW per motor\n"
     ]
    }
   ],
   "source": [
    "# Constants\n",
    "train_mass = 200000  # kg (200 tons)\n",
    "acceleration = 1.0  # m/s^2\n",
    "max_speed = 80 * 1000 / 3600  # m/s (80 km/h)\n",
    "adhesion_value = 0.18  # 18% adhesion\n",
    "gravity = 9.81  # m/s^2\n",
    "num_motors = 8  # 8 driving motors\n",
    "inertial_coefficient = 1.1  # 10% inertial coefficient\n",
    "\n",
    "# Resistance coefficients (from Davis equation)\n",
    "A = 14  # Static friction coefficient (N/ton)\n",
    "B = 0.264  # Rolling resistance coefficient (N/ton per m/s)\n",
    "C = 0.00191  # Air resistance coefficient (N/(ton*m^2/s^2))\n",
    "\n",
    "# Step 1: Calculate the effective mass considering inertia\n",
    "effective_mass = inertial_coefficient * train_mass  # kg\n",
    "\n",
    "# Step 2: Calculate the force required for acceleration\n",
    "tractive_effort = effective_mass * acceleration  # F = m * a (N)\n",
    "\n",
    "# Step 3: Calculate rolling and aerodynamic resistances at max speed using the Davis equation\n",
    "rolling_resistance = A * (train_mass / 1000)  # A in N per ton\n",
    "velocity_resistance = B * (train_mass / 1000) * max_speed  # B * v (proportional to speed)\n",
    "air_resistance = C * (train_mass / 1000) * max_speed**2  # C * v^2\n",
    "\n",
    "# Total resistance\n",
    "total_resistance = rolling_resistance + velocity_resistance + air_resistance  # in N\n",
    "\n",
    "# Step 4: Total required tractive effort (tractive effort + resistance)\n",
    "total_tractive_effort = tractive_effort + total_resistance\n",
    "\n",
    "# Step 5: Calculate the maximum adhesive force\n",
    "adhesive_force = adhesion_value * train_mass * gravity  # Adhesion force (N)\n",
    "\n",
    "# Step 6: Determine the effective tractive force (limited by adhesion)\n",
    "effective_tractive_force = min(total_tractive_effort, adhesive_force)\n",
    "\n",
    "# Step 7: Calculate the power required by each motor at maximum speed\n",
    "# Power = Force * Velocity (P = F * v), divided by number of motors\n",
    "motor_power = (effective_tractive_force * max_speed) / num_motors  # in Watts\n",
    "\n",
    "# Convert to kilowatts for readability\n",
    "motor_power_kw = motor_power / 1000  # Convert to kW\n",
    "\n",
    "# Output the motor rating in kW\n",
    "print(f\"Motor rating required: {motor_power_kw:.2f} kW per motor\")\n"
   ]
  }
 ],
 "metadata": {
  "kernelspec": {
   "display_name": "Python 3 (ipykernel)",
   "language": "python",
   "name": "python3"
  },
  "language_info": {
   "codemirror_mode": {
    "name": "ipython",
    "version": 3
   },
   "file_extension": ".py",
   "mimetype": "text/x-python",
   "name": "python",
   "nbconvert_exporter": "python",
   "pygments_lexer": "ipython3",
   "version": "3.11.4"
  }
 },
 "nbformat": 4,
 "nbformat_minor": 5
}
