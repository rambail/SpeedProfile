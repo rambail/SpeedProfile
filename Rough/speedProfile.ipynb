{
 "cells": [
  {
   "cell_type": "code",
   "execution_count": 1,
   "id": "db367651-6014-4039-a2d6-dc6bf0f8f55e",
   "metadata": {},
   "outputs": [],
   "source": [
    "import matplotlib.pyplot as plt\n",
    "import numpy as np\n",
    "import pandas as pd\n"
   ]
  },
  {
   "cell_type": "code",
   "execution_count": 2,
   "id": "ee010370-ba65-41b6-9c60-7bcc539aa31b",
   "metadata": {},
   "outputs": [],
   "source": [
    "# Function to calculate train resistance at a given velocity (normal + additional resistances)\n",
    "def train_resistance(v, A, B, C, curve_resistance=0, gradient_resistance=0):\n",
    "    return A + B * v + C * v**2 + curve_resistance + gradient_resistance"
   ]
  },
  {
   "cell_type": "code",
   "execution_count": 3,
   "id": "2e75e86f-1b68-4665-b4ff-f12dda50da90",
   "metadata": {},
   "outputs": [],
   "source": [
    "# Function to calculate coasting deceleration at a given speed\n",
    "def coasting_deceleration(v, A, B, C, mass_train, curve_resistance=0, gradient_resistance=0):\n",
    "    F_r = train_resistance(v, A, B, C, curve_resistance, gradient_resistance)\n",
    "    return -F_r / mass_train  # Deceleration is negative since it opposes motion"
   ]
  },
  {
   "cell_type": "code",
   "execution_count": 4,
   "id": "2ea0b47e-87d9-4cc7-8e8a-92cf4bb967ce",
   "metadata": {},
   "outputs": [],
   "source": [
    "# Function to calculate average speed with re-acceleration phase for a segment\n",
    "def calculate_average_speed_with_reacceleration(d, accelerate, retard, maxm_speed, A, B, C, mass_train, curve_resistance=0, gradient_resistance=0):\n",
    "    # Time to accelerate and brake\n",
    "    t_accel = maxm_speed / accelerate\n",
    "    t_brake = maxm_speed / retard\n",
    "\n",
    "    # Distance covered during acceleration and braking phases\n",
    "    d_accel = 0.5 * accelerate * t_accel**2\n",
    "    d_brake = 0.5 * retard * t_brake**2\n",
    "\n",
    "    # Check if the train reaches max speed\n",
    "    if d_accel + d_brake > d:\n",
    "        # The train never reaches max speed\n",
    "        t_total = np.sqrt(2 * d / (accelerate + retard))\n",
    "        avg_speed = d / t_total\n",
    "        return avg_speed, t_total, t_total / 2, 0, t_total / 2, 0  # t_coast = 0, reacceleration = 0\n",
    "    else:\n",
    "        # Distance to cover during coasting\n",
    "        d_coast = d - (d_accel + d_brake)\n",
    "        v = maxm_speed  # starting speed for coasting\n",
    "        dt = 0.1  # time step\n",
    "        t_coast = 0\n",
    "\n",
    "        # Threshold for speed to trigger re-acceleration\n",
    "        speed_threshold = 0.9 * maxm_speed\n",
    "        reacceleration_times = 0\n",
    "\n",
    "        while v > 0 and d_coast > 0:\n",
    "            decel = coasting_deceleration(v, A, B, C, mass_train, curve_resistance, gradient_resistance)\n",
    "            v = max(0, v + decel * dt)  # Update velocity based on deceleration\n",
    "            d_coast -= v * dt  # Update distance covered during this time step\n",
    "            t_coast += dt\n",
    "\n",
    "            # Check if speed falls below 90% of max speed and trigger re-acceleration\n",
    "            if v < speed_threshold and d_coast > 0:\n",
    "                while v < maxm_speed and d_coast > 0:\n",
    "                    v += accelerate * dt  # Accelerate back to max speed\n",
    "                    d_coast -= v * dt\n",
    "                    t_coast += dt\n",
    "                reacceleration_times += 1\n",
    "\n",
    "        # Total time\n",
    "        t_total = t_accel + t_coast + t_brake\n",
    "        avg_speed = d / t_total\n",
    "        return avg_speed, t_total, t_accel, t_coast, t_brake, reacceleration_times\n"
   ]
  },
  {
   "cell_type": "code",
   "execution_count": 5,
   "id": "7218443c-9c24-4d38-8f82-3f750f78c4e2",
   "metadata": {},
   "outputs": [],
   "source": [
    "# Function to plot speed vs time for multiple stations\n",
    "def plot_speed_vs_time_with_reacceleration(distances, accelerate, retard, maxm_speed, A, B, C, mass_train, curve_resistances, gradient_resistances):\n",
    "    total_time = 0\n",
    "    time_points = []\n",
    "    speed_points = []\n",
    "\n",
    "    for idx, d in enumerate(distances):\n",
    "        curve_res = curve_resistances[idx] if idx < len(curve_resistances) else 0\n",
    "        gradient_res = gradient_resistances[idx] if idx < len(gradient_resistances) else 0\n",
    "        \n",
    "        avg_speed, segment_time, t_accel, t_coast, t_brake, reaccel_times = calculate_average_speed_with_reacceleration(\n",
    "            d, accelerate, retard, maxm_speed, A, B, C, mass_train, curve_res, gradient_res\n",
    "        )\n",
    "        time_points_segment = np.linspace(total_time, total_time + segment_time, 500)\n",
    "        speed_points_segment = np.zeros_like(time_points_segment)\n",
    "\n",
    "        for i in range(len(time_points_segment)):\n",
    "            t = time_points_segment[i] - total_time\n",
    "            if t < t_accel:\n",
    "                speed_points_segment[i] = accelerate * t\n",
    "            elif t < t_accel + t_coast:\n",
    "                v_prev = speed_points_segment[i-1] if i > 0 else m\n",
    "                decel = coasting_deceleration(v_prev, A, B, C, mass_train, curve_res, gradient_res)\n",
    "                speed_points_segment[i] = max(0, v_prev + decel * (time_points_segment[i] - time_points_segment[i-1]))\n",
    "                if speed_points_segment[i] < 0.9 * maxm_speed:\n",
    "                    # Re-accelerate when speed drops below 90% of max speed\n",
    "                    speed_points_segment[i] += accelerate * (time_points_segment[i] - time_points_segment[i-1])\n",
    "            else:\n",
    "                time_since_brake = t - t_accel - t_coast\n",
    "                speed_points_segment[i] = max(0, maxm_speed - retard * time_since_brake)\n",
    "\n",
    "        # Append time and speed points\n",
    "        time_points.extend(time_points_segment)\n",
    "        speed_points.extend(speed_points_segment)\n",
    "        total_time += segment_time\n",
    "\n",
    "    # Plot the graph\n",
    "    plt.figure(figsize=(10, 6))\n",
    "    plt.plot(time_points, speed_points, label='Speed vs Time with Re-Acceleration')\n",
    "    plt.fill_between(time_points, 0, speed_points, alpha=0.3)\n",
    "    plt.title(\"Speed vs Time Graph with Re-Acceleration (Multiple Stations)\")\n",
    "    plt.xlabel(\"Time (s)\")\n",
    "    plt.ylabel(\"Speed (m/s)\")\n",
    "    plt.grid(True)\n",
    "    plt.legend()\n",
    "    plt.show()\n"
   ]
  },
  {
   "cell_type": "code",
   "execution_count": null,
   "id": "6f74915c-b8e8-4d4b-a98f-5a722f2e0e85",
   "metadata": {},
   "outputs": [],
   "source": []
  },
  {
   "cell_type": "code",
   "execution_count": 6,
   "id": "89ee1b0f-59de-4e59-84f9-cd0fd8d22371",
   "metadata": {},
   "outputs": [
    {
     "name": "stdout",
     "output_type": "stream",
     "text": [
      "[2200.0, 1900.0, 3100.0, 1800.0, 2700.0]\n"
     ]
    }
   ],
   "source": [
    "# Read station details from CSV file\n",
    "stations_data = pd.read_csv('stn.csv')\n",
    "\n",
    "# Calculate inter-station distances from chainages\n",
    "distances = stations_data['Chainage in km'].diff().fillna(0).tolist()[1:]  # Skip the first station (no previous station to calculate distance)\n",
    "print(distances)"
   ]
  },
  {
   "cell_type": "code",
   "execution_count": null,
   "id": "b74d3ad0-3c13-4e4a-a543-fd73d5b3c195",
   "metadata": {},
   "outputs": [],
   "source": []
  },
  {
   "cell_type": "code",
   "execution_count": 7,
   "id": "75a6901e-d081-41df-8950-d8b4829d718e",
   "metadata": {},
   "outputs": [],
   "source": [
    "# Hardcoded values for station distances (in meters)\n",
    "#distances = [2200, 1900, 3400]  # Distances between stations A->B, B->C, and C->D\n",
    "\n",
    "# Hardcoded values for friction coefficients and train parameters\n",
    "#A = 100  # constant friction coefficient\n",
    "#B = 10  # linear friction coefficient\n",
    "#C = 10  # quadratic friction coefficient\n",
    "#accelerate = 1.0  # acceleration (m/s²)\n",
    "#retard = 1.0  # braking rate (m/s²)\n",
    "#maxm_speed = 20  # maximum speed (m/s)\n",
    "#mass_train = 100000  # mass of the train (kg)"
   ]
  },
  {
   "cell_type": "code",
   "execution_count": 8,
   "id": "13b5f036-38fe-45c6-b2df-485ae363feaa",
   "metadata": {},
   "outputs": [
    {
     "name": "stdin",
     "output_type": "stream",
     "text": [
      "Enter the constant friction coefficient A:  10\n",
      "Enter the linear friction coefficient B:  10\n",
      "Enter the quadratic friction coefficient C:  10\n",
      "Enter the acceleration (m/s²):  1\n",
      "Enter the braking rate (m/s²):  1\n",
      "Enter the maximum speed (Km/hr):  80\n",
      "Enter the mass of the train (Ton):  200\n"
     ]
    }
   ],
   "source": [
    "# Input for friction coefficients (A, B, C)\n",
    "A = float(input(\"Enter the constant friction coefficient A: \"))\n",
    "B = float(input(\"Enter the linear friction coefficient B: \"))\n",
    "C = float(input(\"Enter the quadratic friction coefficient C: \"))\n",
    "\n",
    "# Input for train parameters (acceleration, braking, max speed, and mass)\n",
    "accelerate = float(input(\"Enter the acceleration (m/s²): \"))\n",
    "retard = float(input(\"Enter the braking rate (m/s²): \"))\n",
    "maxm_speed = float(input(\"Enter the maximum speed (Km/hr): \"))\n",
    "mass_train = float(input(\"Enter the mass of the train (Ton): \"))\n",
    "\n",
    "# Convert maxm_speed to m/s² and mass to kg\n",
    "maxm_speed =  maxm_speed * 1000/3600\n",
    "mass_train = mass_train * 1000"
   ]
  },
  {
   "cell_type": "code",
   "execution_count": 9,
   "id": "1f486155-2efd-46ee-8629-2c5898992dca",
   "metadata": {},
   "outputs": [
    {
     "data": {
      "image/png": "[encoded data removed]",
      "text/plain": [
       "<Figure size 1000x600 with 1 Axes>"
      ]
     },
     "metadata": {},
     "output_type": "display_data"
    }
   ],
   "source": [
    "# Curve and gradient resistances for each segment\n",
    "curve_resistances = [600 / 200, 0, 0]  # Example: 1 in 200 curve between A -> B\n",
    "gradient_resistances = [0, 0, 9.81 * 1 / 100 * mass_train]  # Example: 1 in 100 gradient between C -> D\n",
    "\n",
    "# Plot speed vs time for multiple stations with re-acceleration logic\n",
    "plot_speed_vs_time_with_reacceleration(distances, accelerate, retard, maxm_speed, A, B, C, mass_train, curve_resistances, gradient_resistances)"
   ]
  },
  {
   "cell_type": "markdown",
   "id": "8af4be21-8639-4455-858c-631c249c39e4",
   "metadata": {},
   "source": [
    "The average speed of a metro train can be calculated by analyzing the phases of the journey: acceleration, cruising at max speed, and braking.\n",
    "\n",
    "To derive the average speed, we can use the following logic:\n",
    "\n",
    "1. **Acceleration Phase**: The train accelerates from 0 to maximum speed.\n",
    "2. **Cruising Phase**: The train maintains the maximum speed until it begins braking.\n",
    "3. **Coasting Phase**: The train's speed gradually decreases due to the deceleration caused by friction, which depends on the current speed.\n",
    "4. **Braking Phase**: The train decelerates to 0 at the destination.\n",
    "\n",
    "The total distance covered during acceleration and braking can be split up.\n",
    "\n",
    "$t_a = \\frac{m}{a}$, \n",
    "\n",
    "$t_b = \\frac{m}{b}$\n"
   ]
  },
  {
   "cell_type": "markdown",
   "id": "c912865d-931b-4f20-b582-676d60411aef",
   "metadata": {},
   "source": []
  },
  {
   "cell_type": "markdown",
   "id": "b7abe5d1-1b67-45fa-bdbe-b7d94dc1dbec",
   "metadata": {},
   "source": [
    "To account for friction during the cruising (now coasting) phase, we can incorporate the train resistance equation. The coasting phase will involve the train gradually decelerating due to the resistance force. The train resistance (friction) is commonly modeled using a quadratic or linear function of speed, such as:\n",
    "\n",
    "$\n",
    "F_r = A + Bv + Cv^2\n",
    "$\n",
    "\n",
    "Where:\n",
    "- $ F_r $ is the total resistance (in Newtons).\n",
    "- $ A $, $ B $, and $ C $ are coefficients for the train resistance (typically dependent on the type of train).\n",
    "- $ v $ is the train's velocity during coasting.\n",
    "\n",
    "**Hundai Rotem** for LTMRHL\n",
    "\n",
    "$ R = 14.01 + 0.264 \\times V + 0.00191 \\times V^2 $\n",
    "\n",
    "- R: Train Resistance in N/Ton\n",
    "- V: Train Speed in Km/h\n",
    "\n",
    "$ R = \\frac{500}{r} $\n",
    "\n",
    "- R: Curve Resistance in N/Ton\n",
    "- r: Curve Radius in m\n",
    "\n",
    "The equation for motion during the coasting phase will now take into account this resistance. The deceleration due to resistance can be computed using:\n",
    "\n",
    "$\n",
    "a_{\\text{coast}} = -\\frac{F_r}{m_{\\text{train}}}\n",
    "$\n",
    "\n",
    "Where:\n",
    "- $ a_{\\text{coast}} $ is the deceleration during coasting.\n",
    "- $ m_{\\text{train}} $ is the mass of the train.\n"
   ]
  },
  {
   "cell_type": "markdown",
   "id": "a626f68c-07b8-4d34-8659-462068ba8b51",
   "metadata": {},
   "source": []
  },
  {
   "cell_type": "markdown",
   "id": "fe85cb73-8878-4e45-8017-02b8b73145b8",
   "metadata": {},
   "source": [
    "Introducing curve and gradient resistance into the train's journey adds new complexities to the coasting and cruising phases. Here's how we'll incorporate these factors:\n",
    "\n",
    "### Curve Resistance:\n",
    "- **Curve Resistance** occurs due to the curvature of the track. For a given curve, the additional resistance is calculated as:\n",
    "\n",
    "$\n",
    "  R_{\\text{curve}} = \\frac{600}{\\text{radius of the curve in meters}} \n",
    "$\n",
    "\n",
    "### Gradient Resistance:\n",
    "- **Gradient Resistance** is the resistance caused by an incline or decline in the track. For a 1 in 100 gradient, the resistance is:\n",
    "\n",
    "$\n",
    "  R_{\\text{gradient}} = 9.81 \\times \\frac{1}{100} \\times \\text{mass of the train (in kg)}\n",
    "$\n"
   ]
  },
  {
   "cell_type": "markdown",
   "id": "6bfb9863-dde8-43a4-890f-39d1aa5130bb",
   "metadata": {},
   "source": []
  },
  {
   "cell_type": "markdown",
   "id": "9cf03b4e-1f63-4520-a663-ef353b20fd64",
   "metadata": {},
   "source": [
    "The line of code:\n",
    "\n",
    "```python\n",
    "t_total = np.sqrt(2 * d / (a + b))\n",
    "```\n",
    "\n",
    "is used to calculate the total time required for the train to travel a given distance `d` if the train does not reach its maximum speed during acceleration or braking.\n",
    "\n",
    "### Breakdown:\n",
    "\n",
    "- `d`: The total distance to be traveled.\n",
    "- `a`: The acceleration rate (in meters per second squared, m/s²).\n",
    "- `b`: The braking rate (in meters per second squared, m/s²).\n",
    "\n",
    "### Explanation:\n",
    "\n",
    "This line is derived from the following scenario:\n",
    "\n",
    "- If the train does not reach the maximum speed during the journey, the motion is purely controlled by the acceleration and braking phases.\n",
    "- The train first accelerates at rate `a` and then decelerates (brakes) at rate `b` to stop at the destination. In this situation, the train never reaches its cruising (maximum) speed.\n",
    "\n",
    "In such a case, the total time `t_total` required to travel the distance `d` can be calculated by using a simplified kinematic equation that accounts for both acceleration and braking phases.\n",
    "\n",
    "1. **Kinematic equation for displacement (ignoring maximum speed)**:\n",
    "   The total distance traveled under constant acceleration and braking is given by:\n",
    "   $\n",
    "   d = \\frac{1}{2} a t_{\\text{accel}}^2 + \\frac{1}{2} b t_{\\text{brake}}^2\n",
    "   $\n",
    "\n",
    "   Since the train accelerates and brakes symmetrically (one phase follows the other), the total time can be treated as a function of both `a` and `b`. For simplicity, we assume:\n",
    "   $\n",
    "   d = \\frac{1}{2} (a + b) t_{\\text{total}}^2\n",
    "   $\n",
    "\n",
    "2. **Rearranging the equation** to solve for `t_total`:\n",
    "   $\n",
    "   t_{\\text{total}} = \\sqrt{\\frac{2d}{a + b}}\n",
    "  $\n",
    "\n",
    "This equation assumes that the entire journey is a combination of acceleration and braking, with no constant-speed coasting phase. \n",
    "\n",
    "### Key Points:\n",
    "- The `t_total` calculation is only valid when the train never reaches the maximum speed.\n",
    "- The formula simplifies the process by treating the acceleration and braking phases together, assuming symmetrical motion. The distance is split between the acceleration and braking phases.\n"
   ]
  },
  {
   "cell_type": "markdown",
   "id": "39d21c59-4d00-40d7-820c-0b5143172744",
   "metadata": {},
   "source": []
  },
  {
   "cell_type": "markdown",
   "id": "f655c07b-cc13-4346-931c-a15d31b86037",
   "metadata": {},
   "source": [
    "**Coasting Phase Logic**:\n",
    "\n",
    "- The speed is  updated at each time step during the coasting phase.\n",
    "- **Gradual Speed Reduction**: The speed is reduced continuously in the coasting phase as the train slows down due to friction.\n",
    "- The velocity decreases based on the deceleration due to friction, which is computed using the train resistance equation at each time step.\n",
    "- During this phase, if the speed falls below $ 0.9 × 𝑚 $, the train will re-accelerate until it reaches the maximum speed again  or until the segment distance is covered.\n",
    "- We'll use a simple loop to check the speed at each time step during the coasting phase. If it drops below the threshold, acceleration is reapplied until the train returns to its maximum speed.\n"
   ]
  },
  {
   "cell_type": "markdown",
   "id": "fb95316a-c1bb-4745-ab89-4a6e95c53443",
   "metadata": {},
   "source": [
    "Additionaly in function: calculate_average_speed_with_reacceleration, the function now calculates how many times re-acceleration is triggered during the coasting phase and integrates that into the overall timing and speed profile."
   ]
  },
  {
   "cell_type": "markdown",
   "id": "596baa4c-b98e-4573-a359-a28829fb81f7",
   "metadata": {},
   "source": []
  },
  {
   "cell_type": "markdown",
   "id": "2290cfb1-f23b-4440-b4de-8f1a9963cb4d",
   "metadata": {},
   "source": [
    "1. **Curve and Gradient Handling**: Instead of assigning a single curve or gradient to a section, we'll calculate their effects cumulatively if there are overlapping curves or gradients.\n",
    "\n",
    "2. **Resistance Calculations**: The calculate_cumulative_resistance() function computes the total resistances from all applicable curves and gradients at each segment."
   ]
  },
  {
   "cell_type": "markdown",
   "id": "2fa30323-0da4-4609-83f8-49de1c902465",
   "metadata": {},
   "source": []
  },
  {
   "cell_type": "markdown",
   "id": "11e9972c-c1f1-4649-8dd4-827ba414e6a6",
   "metadata": {},
   "source": [
    "The formula $P_{\\text{required}} = R_{\\text{total}} \\times v $ is used to calculate the **power required** by a train to overcome various resistances while it is in motion. \n",
    "\n",
    "- **Power in Physics**:\n",
    "  \n",
    "   $\n",
    "   P = F \\times v\n",
    "  $\n",
    "   Where:\n",
    "   - $ P $ is power,\n",
    "   - $ F $ is the force (in this case, the total resistance),\n",
    "   - $ v $ is the velocity (speed of the train).\n",
    "\n",
    "\n",
    "### Example:\n",
    "\n",
    "- If a train is moving at a speed of 20 m/s and the total resistance it encounters is 300 N, the power required to maintain that speed would be calculated as follows:\n",
    "  \n",
    "  $\n",
    "  P_{\\text{required}} = R_{\\text{total}} \\times v = 300 \\, \\text{N} \\times 20 \\, \\text{m/s} = 6000 \\, \\text{W} \n",
    "  $\n",
    "\n",
    "This means the train needs to produce at least 6000 watts (6 Kw) of power to maintain that speed against the resistance. If the power available from the train's motor is less than this, it will start to decelerate."
   ]
  },
  {
   "cell_type": "markdown",
   "id": "d3ed1a7c-2ed8-491c-8726-3fb76aa28da1",
   "metadata": {},
   "source": []
  },
  {
   "cell_type": "markdown",
   "id": "31941502-5369-462e-8ce5-44cf66b520bf",
   "metadata": {},
   "source": []
  }
 ],
 "metadata": {
  "kernelspec": {
   "display_name": "Python 3 (ipykernel)",
   "language": "python",
   "name": "python3"
  },
  "language_info": {
   "codemirror_mode": {
    "name": "ipython",
    "version": 3
   },
   "file_extension": ".py",
   "mimetype": "text/x-python",
   "name": "python",
   "nbconvert_exporter": "python",
   "pygments_lexer": "ipython3",
   "version": "3.12.7"
  }
 },
 "nbformat": 4,
 "nbformat_minor": 5
}
