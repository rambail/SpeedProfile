{
 "cells": [
  {
   "cell_type": "code",
   "execution_count": 1,
   "id": "edbbffdd-e5e9-4c18-8929-ffabba6b19a6",
   "metadata": {},
   "outputs": [],
   "source": [
    "speed_restrictions = [\n",
    "    {'start': 3, 'end': 5, 'restricted_speed': 15.0},  # speed restriction example\n",
    "    {'start': 8, 'end': 9, 'restricted_speed': 15.0},  # speed restriction example\n",
    "]"
   ]
  },
  {
   "cell_type": "code",
   "execution_count": 2,
   "id": "39903f43-39b3-45af-a408-a10a3c67b313",
   "metadata": {},
   "outputs": [
    {
     "name": "stdout",
     "output_type": "stream",
     "text": [
      "I:3, speed:15.0\n",
      "I:4, speed:15.0\n",
      "I:5, speed:15.0\n",
      "I:8, speed:15.0\n",
      "I:9, speed:15.0\n"
     ]
    }
   ],
   "source": [
    "for restriction in speed_restrictions:\n",
    "    for i in range(10):\n",
    "        if restriction['start'] <= i <= restriction['end']:\n",
    "            print(f\"I:{i}, speed:{restriction['restricted_speed']}\")\n",
    "        i += 1"
   ]
  },
  {
   "cell_type": "code",
   "execution_count": 3,
   "id": "7d12b281-188d-4e4b-b2c0-2cec67b1a3c0",
   "metadata": {},
   "outputs": [],
   "source": [
    "def apply_speed_restrictions(speed, distance_covered, speed_restrictions, acceleration, deceleration, target_speed, time_interval):\n",
    "    # Variables to track distances for each phase\n",
    "    distance_deceleration = 0\n",
    "    distance_constant_speed = 0\n",
    "    distance_acceleration = 0\n",
    "    \n",
    "    for restriction in speed_restrictions:\n",
    "        # Check if current distance_covered is within the restriction zone\n",
    "        if restriction['start'] <= distance_covered <= restriction['end']:\n",
    "            restricted_speed = restriction['restricted_speed']\n",
    "            \n",
    "            # 1. Deceleration phase if current speed is above restricted speed\n",
    "            if speed > restricted_speed:\n",
    "                # Time required to decelerate to the restricted speed\n",
    "                decel_time = (speed - restricted_speed) / deceleration\n",
    "                distance_deceleration = (speed * decel_time) - (0.5 * deceleration * decel_time**2)\n",
    "                \n",
    "                # Decelerate the speed gradually\n",
    "                speed = restricted_speed\n",
    "                distance_covered += distance_deceleration\n",
    "                print(f\"Decelerating to restricted speed: {speed:.2f} m/s over {distance_deceleration:.2f} meters.\")\n",
    "\n",
    "            # 2. Constant speed phase within restriction zone\n",
    "            if restriction['start'] <= distance_covered <= restriction['end']:\n",
    "                # Calculate remaining distance within restriction zone\n",
    "                remaining_distance_in_zone = restriction['end'] - distance_covered\n",
    "                distance_constant_speed = remaining_distance_in_zone\n",
    "                distance_covered += distance_constant_speed\n",
    "                print(f\"Traveling at restricted speed: {speed:.2f} m/s over {distance_constant_speed:.2f} meters.\")\n",
    "\n",
    "            # Return immediately once within a restriction zone\n",
    "            return speed, distance_deceleration + distance_constant_speed\n",
    "\n",
    "    # 3. Acceleration phase after exiting the restriction zone\n",
    "    if speed < target_speed:\n",
    "        # Time required to accelerate to the target speed\n",
    "        accel_time = (target_speed - speed) / acceleration\n",
    "        distance_acceleration = (speed * accel_time) + (0.5 * acceleration * accel_time**2)\n",
    "        \n",
    "        # Accelerate gradually to target speed\n",
    "        speed = target_speed\n",
    "        distance_covered += distance_acceleration\n",
    "        print(f\"Accelerating to {speed:.2f} m/s over {distance_acceleration:.2f} meters after restriction zone.\")\n",
    "\n",
    "    # Return the speed and total distance traveled in all phases\n",
    "    return speed, distance_deceleration + distance_constant_speed + distance_acceleration\n"
   ]
  },
  {
   "cell_type": "code",
   "execution_count": 4,
   "id": "77c6194a-f30d-4dd1-87f0-8a75927046c5",
   "metadata": {},
   "outputs": [
    {
     "name": "stdout",
     "output_type": "stream",
     "text": [
      "Accelerating to 22.00 m/s over 242.00 meters after restriction zone.\n",
      "I:0, Current speed: 22.0 m/s, Total distance covered: 264.0 meters\n",
      "I:1, Current speed: 22.0 m/s, Total distance covered: 286.0 meters\n",
      "I:2, Current speed: 22.0 m/s, Total distance covered: 308.0 meters\n",
      "Decelerating to restricted speed: 18.00 m/s over 80.00 meters.\n",
      "Traveling at restricted speed: 18.00 m/s over 112.00 meters.\n",
      "I:3, Current speed: 18.0 m/s, Total distance covered: 518.0 meters\n",
      "Accelerating to 22.00 m/s over 80.00 meters after restriction zone.\n",
      "I:4, Current speed: 22.0 m/s, Total distance covered: 620.0 meters\n",
      "I:5, Current speed: 22.0 m/s, Total distance covered: 642.0 meters\n",
      "I:6, Current speed: 22.0 m/s, Total distance covered: 664.0 meters\n",
      "I:7, Current speed: 22.0 m/s, Total distance covered: 686.0 meters\n",
      "I:8, Current speed: 22.0 m/s, Total distance covered: 708.0 meters\n",
      "Decelerating to restricted speed: 19.00 m/s over 61.50 meters.\n",
      "Traveling at restricted speed: 19.00 m/s over 130.50 meters.\n",
      "I:9, Current speed: 19.0 m/s, Total distance covered: 919.0 meters\n",
      "Accelerating to 22.00 m/s over 61.50 meters after restriction zone.\n",
      "I:10, Current speed: 22.0 m/s, Total distance covered: 1002.5 meters\n"
     ]
    }
   ],
   "source": [
    "# Parameters\n",
    "speed = 0.0  # initial speed in m/s\n",
    "total_distance = 1000 # Inter Station Distance in Meter\n",
    "distance_covered = 0\n",
    "acceleration = 1.0  # m/s²\n",
    "deceleration = 1.0  # m/s²\n",
    "target_speed = 22.0  # m/s\n",
    "time_interval = 1  # seconds per update\n",
    "speed_restrictions = [\n",
    "    {'start': 300, 'end': 500, 'restricted_speed': 18.0},  \n",
    "    {'start': 700, 'end': 900, 'restricted_speed': 19.0},  \n",
    "]\n",
    "\n",
    "# Simulate a run\n",
    "for i in range(total_distance):  # Each iteration represents a time step\n",
    "    speed, distance_traveled = apply_speed_restrictions(speed, distance_covered, speed_restrictions, acceleration, deceleration, target_speed, time_interval)\n",
    "    distance_covered += distance_traveled  # Update the distance covered based on the function output\n",
    "    if distance_covered > 1000:\n",
    "        break\n",
    "    else:\n",
    "        distance_covered += speed * time_interval\n",
    "    print(f\"I:{i}, Current speed: {speed} m/s, Total distance covered: {distance_covered} meters\")\n"
   ]
  },
  {
   "cell_type": "code",
   "execution_count": 6,
   "id": "8fd09eda-3d8a-44cd-a4b7-4b2b3af2d1be",
   "metadata": {},
   "outputs": [
    {
     "name": "stdout",
     "output_type": "stream",
     "text": [
      "Accelerating to 22.00 m/s over 42.00 meters after restriction zone.\n",
      "I:0, Current speed: 22.0 m/s, Total distance covered: 64.0 meters\n",
      "I:1, Current speed: 22.0 m/s, Total distance covered: 86.0 meters\n",
      "I:2, Current speed: 22.0 m/s, Total distance covered: 108.0 meters\n",
      "I:3, Current speed: 22.0 m/s, Total distance covered: 130.0 meters\n",
      "I:4, Current speed: 22.0 m/s, Total distance covered: 152.0 meters\n",
      "I:5, Current speed: 22.0 m/s, Total distance covered: 174.0 meters\n",
      "I:6, Current speed: 22.0 m/s, Total distance covered: 196.0 meters\n",
      "I:7, Current speed: 22.0 m/s, Total distance covered: 218.0 meters\n",
      "I:8, Current speed: 22.0 m/s, Total distance covered: 240.0 meters\n",
      "I:9, Current speed: 22.0 m/s, Total distance covered: 262.0 meters\n",
      "I:10, Current speed: 22.0 m/s, Total distance covered: 284.0 meters\n",
      "I:11, Current speed: 22.0 m/s, Total distance covered: 306.0 meters\n",
      "Decelerating to restricted speed: 18.00 m/s over 80.00 meters.\n",
      "Traveling at restricted speed: 18.00 m/s over 114.00 meters.\n",
      "I:12, Current speed: 18.0 m/s, Total distance covered: 518.0 meters\n",
      "Accelerating to 22.00 m/s over 80.00 meters after restriction zone.\n",
      "I:13, Current speed: 22.0 m/s, Total distance covered: 620.0 meters\n",
      "I:14, Current speed: 22.0 m/s, Total distance covered: 642.0 meters\n",
      "I:15, Current speed: 22.0 m/s, Total distance covered: 664.0 meters\n",
      "I:16, Current speed: 22.0 m/s, Total distance covered: 686.0 meters\n",
      "I:17, Current speed: 22.0 m/s, Total distance covered: 708.0 meters\n",
      "Decelerating to restricted speed: 19.00 m/s over 61.50 meters.\n",
      "Traveling at restricted speed: 19.00 m/s over 130.50 meters.\n",
      "I:18, Current speed: 19.0 m/s, Total distance covered: 919.0 meters\n",
      "Accelerating to 22.00 m/s over 61.50 meters after restriction zone.\n",
      "I:19, Current speed: 22.0 m/s, Total distance covered: 1002.5 meters\n"
     ]
    }
   ],
   "source": [
    "# Parameters\n",
    "speed = 20.0  # initial speed in m/s\n",
    "distance_covered = 0\n",
    "\n",
    "\n",
    "for i in range(total_distance):  # Each iteration represents a time step\n",
    "    speed, distance_traveled = apply_speed_restrictions(speed, distance_covered, speed_restrictions, acceleration, deceleration, target_speed, time_interval)\n",
    "    distance_covered += distance_traveled  # Update the distance covered based on the function output\n",
    "    if distance_covered > 1000:\n",
    "        break\n",
    "    else:\n",
    "        distance_covered += speed * time_interval\n",
    "    print(f\"I:{i}, Current speed: {speed} m/s, Total distance covered: {distance_covered} meters\")\n",
    " "
   ]
  },
  {
   "cell_type": "code",
   "execution_count": null,
   "id": "b1e940ad-7e31-456a-acd7-58494d07594d",
   "metadata": {},
   "outputs": [],
   "source": []
  }
 ],
 "metadata": {
  "kernelspec": {
   "display_name": "Python 3 (ipykernel)",
   "language": "python",
   "name": "python3"
  },
  "language_info": {
   "codemirror_mode": {
    "name": "ipython",
    "version": 3
   },
   "file_extension": ".py",
   "mimetype": "text/x-python",
   "name": "python",
   "nbconvert_exporter": "python",
   "pygments_lexer": "ipython3",
   "version": "3.11.4"
  }
 },
 "nbformat": 4,
 "nbformat_minor": 5
}
