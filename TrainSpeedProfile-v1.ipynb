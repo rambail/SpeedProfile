{
 "cells": [
  {
   "cell_type": "code",
   "execution_count": 1,
   "id": "4978410a-05ac-4992-9cb6-259077263a5f",
   "metadata": {},
   "outputs": [],
   "source": [
    "import pandas as pd\n",
    "import matplotlib.pyplot as plt\n",
    "import numpy as np\n",
    "\n",
    "import os\n",
    "from openpyxl import load_workbook\n",
    "from openpyxl.drawing.image import Image\n"
   ]
  },
  {
   "cell_type": "code",
   "execution_count": 2,
   "id": "ebdbbd3f-c4dc-4475-91ef-a4a84e628175",
   "metadata": {},
   "outputs": [],
   "source": [
    "# Get the current working directory and create the 'image' subfolder\n",
    "current_dir = os.getcwd()\n",
    "image_dir = os.path.join(current_dir, \"image\")\n",
    "if not os.path.exists(image_dir):\n",
    "    os.makedirs(image_dir)\n",
    "excel_path = os.path.join(image_dir, \"output.xlsx\")\n",
    "plot_path = os.path.join(image_dir, \"plot.png\")\n"
   ]
  },
  {
   "cell_type": "code",
   "execution_count": 3,
   "id": "e6db5216-ed7b-459b-844f-110fca96d4ea",
   "metadata": {},
   "outputs": [],
   "source": [
    "# Load the CSV files\n",
    "# The CSV files contain the input parameters\n",
    "stations = pd.read_csv('stations.csv') # Station and their chainage\n",
    "curves = pd.read_csv('curves.csv') # Curves data including start, end, radius\n",
    "gradients = pd.read_csv('gradients.csv') # Gradient data including start, end\n",
    "speed_restrictions = pd.read_csv('sr.csv') # Speed restriction associated with curve\n",
    "\n",
    "# Load the train parameters CSV file\n",
    "train_params = pd.read_csv('train_parameters.csv')# Train parameters\n",
    "\n",
    "#print(speed_restrictions.columns)\n",
    "#print(curves.columns)\n"
   ]
  },
  {
   "cell_type": "code",
   "execution_count": 4,
   "id": "e40b9626-130e-4a52-b713-a055865a6a6d",
   "metadata": {},
   "outputs": [],
   "source": [
    "# Convert the 'Value' column to a dictionary for easy access\n",
    "train_params_dict = pd.Series(train_params.Value.values, index=train_params.Parameter).to_dict()\n",
    "\n",
    "# Create a dictionary to map radius to speed restriction\n",
    "speed_limit_dict = pd.Series(speed_restrictions.Speed_Limit.values, index=speed_restrictions.Radius).to_dict()\n",
    "\n",
    "# Extract values from the dictionary\n",
    "acceleration = float(train_params_dict['Acceleration_rate_1'])\n",
    "acceleration_switch = float(train_params_dict['Acceleration_rate_2'])\n",
    "switch_speed = float(train_params_dict['Switch_speed'])\n",
    "braking_deceleration = float(train_params_dict['Braking_rate'])\n",
    "max_speed = float(train_params_dict['Maximum_speed'])  # Assuming the speed is in km/h, convert to m/s\n",
    "coasting_limit = float(train_params_dict['Coasting_limit'])\n",
    "regen_efficiency = float(train_params_dict['Regeneration_efficiency'])  # Efficiency of regeneration\n",
    "\n",
    "# Frictional and Inertial constant\n",
    "starting_resistance = float(train_params_dict['Starting_resistance'])  # All inclusive of static friction and other resistive forces.\n",
    "static_friction = float(train_params_dict['Static_friction']) # Interaction at wheel - rail initial contact\n",
    "rolling_resistance = float(train_params_dict['Rolling_resistance'])\n",
    "air_resistance = float(train_params_dict['Air_resistance'])\n",
    "mass = float(train_params_dict['Train_mass'])  # Train weight in tons\n",
    "mc_mass = float(train_params_dict['MC_mass'])  # Motor car weight\n",
    "tc_mass = float(train_params_dict['TC_mass'])  # Trailer Car weight\n",
    "inertia_mass_m = float(train_params_dict['Inertia_mass_m'])  # Intertial coefficient of motor car\n",
    "inertia_mass_t = float(train_params_dict['Inertia_mass_t'])  # Intertial coefficient of trailer car\n",
    "\n",
    "motor_nos = float(train_params_dict['Motor_nos'])  # Number of driving motors in train\n"
   ]
  },
  {
   "cell_type": "code",
   "execution_count": 5,
   "id": "926de4e4-23e8-492f-a0e6-8d61c13be8f1",
   "metadata": {},
   "outputs": [],
   "source": [
    "# Extract the chainage and station names\n",
    "station_chainages = stations['Chainage'].values\n",
    "station_names = stations['Station_Name'].values\n",
    "#print(len(station_names))\n",
    "\n",
    "#print(f'static_friction:{static_friction},mass:{mass}')\n",
    "#print(f'Acceleration 2:{acceleration_switch}')"
   ]
  },
  {
   "cell_type": "code",
   "execution_count": 6,
   "id": "4d6b1e1a-fd63-400d-a705-6290b46b93cf",
   "metadata": {},
   "outputs": [],
   "source": [
    "# Convert speeds from km/h to m/s\n",
    "max_speed = max_speed * 1000 / 3600\n",
    "switch_speed = switch_speed * 1000 / 3600\n",
    "\n",
    "no_coasting = False # Flag for coasting, true if present\n",
    "\n",
    "accelerating_distance = max_speed**2/2/acceleration_switch\n",
    "braking_distance = max_speed**2/2/braking_deceleration\n"
   ]
  },
  {
   "cell_type": "markdown",
   "id": "b01a6822-0927-4864-82e0-79bc355f9f18",
   "metadata": {},
   "source": [
    "To account for friction during the cruising (now coasting) phase, we can incorporate the train resistance equation. The coasting phase will involve the train gradually decelerating due to the resistance force. The train resistance (friction) is commonly modeled using a quadratic or linear function of speed, such as:\n",
    "\n",
    "$\\large\n",
    "F_r = A + Bv + Cv^2\n",
    "$\n",
    "\n",
    "Where:\n",
    "- $ F_r $ is the total resistance (in Newtons).\n",
    "- $ A $, $ B $, and $ C $ are coefficients for the train resistance (typically dependent on the type of train).\n",
    "- $ v $ is the train's velocity during coasting.\n",
    "\n",
    "**Hundai Rotem** for LTMRHL\n",
    "\n",
    "$ \\large R = 14.01 + 0.264 \\times V + 0.00191 \\times V^2 $\n",
    "\n",
    "- R: Train Resistance in N/Ton\n",
    "- V: Train Speed in Km/h\n"
   ]
  },
  {
   "cell_type": "code",
   "execution_count": 7,
   "id": "c05bfeb2-9af4-417f-a031-4ba447da44e4",
   "metadata": {},
   "outputs": [],
   "source": [
    "# Davis formula for resistance\n",
    "def davis():\n",
    "    return (static_friction + rolling_resistance * speed + air_resistance * speed**2) * mass\n"
   ]
  },
  {
   "cell_type": "markdown",
   "id": "57437eba-523a-424d-96f3-0129ab6e0b73",
   "metadata": {},
   "source": [
    "***Explanation***\n",
    "\n",
    "The average speed of a metro train can be calculated by analyzing the phases of the journey: acceleration, cruising at max speed, and braking.\n",
    "\n",
    "To derive the average speed, we can use the following logic:\n",
    "\n",
    "1. **Acceleration Phase**: The train accelerates from 0 to maximum speed.\n",
    "2. **Cruising Phase**: The train maintains the maximum speed until it begins braking.\n",
    "3. **Coasting Phase**: The train's speed gradually decreases due to the deceleration caused by friction, which depends on the current speed.\n",
    "4. **Braking Phase**: The train decelerates to 0 at the destination.\n",
    "\n",
    "The total distance covered during acceleration and braking can be split up.\n",
    "\n",
    "$\\large t_a = \\frac{m}{a}$, \n",
    "\n",
    "$\\large t_b = \\frac{m}{b}$\n"
   ]
  },
  {
   "cell_type": "code",
   "execution_count": 8,
   "id": "a9eb2aa4-604e-4e54-b245-7ce3efb63852",
   "metadata": {},
   "outputs": [],
   "source": [
    "def accelerate(speed, acceleration, max_speed, time_step=1):\n",
    "    \"\"\"\n",
    "    Calculate the increased speed during coasting due to accelerating effort.\n",
    "\n",
    "    Parameters:\n",
    "    - speed (float): Current speed of the train (m/s).\n",
    "    - acceleration (float): The acceleration rate.\n",
    "    - time_step (float): Time over which to calculate the speed reduction (seconds). Default is 1 second.\n",
    "\n",
    "    Returns:\n",
    "    - float: The new reduced speed after applying friction forces.\n",
    "    \"\"\"\n",
    "    #print(f'Speed:{speed}, Accel:{acceleration}')\n",
    "    speed += acceleration * time_step\n",
    "    if speed > max_speed:\n",
    "        speed = max_speed\n",
    "        \n",
    "    return speed\n"
   ]
  },
  {
   "cell_type": "code",
   "execution_count": 9,
   "id": "ed1bfc01-bbd1-461b-ab85-713e79403c51",
   "metadata": {},
   "outputs": [],
   "source": [
    "def brake(speed, braking, time_step=1):\n",
    "    \"\"\"\n",
    "    Calculate the reduced speed during coasting due to braking effort.\n",
    "\n",
    "    Parameters:\n",
    "    - speed (float): Current speed of the train (m/s).\n",
    "    - braking (float): The braking rate.\n",
    "    - time_step (float): Time over which to calculate the speed reduction (seconds). Default is 1 second.\n",
    "\n",
    "    Returns:\n",
    "    - float: The new reduced speed after applying friction forces.\n",
    "    \"\"\"\n",
    "    speed -= braking * time_step\n",
    "    if speed < 0:\n",
    "        speed = 0\n",
    "\n",
    "    return speed\n"
   ]
  },
  {
   "cell_type": "markdown",
   "id": "ec1d9699-76a6-4de4-b9e9-d0301a98f91b",
   "metadata": {},
   "source": [
    "The equation for motion during the coasting phase will now take into account this resistance. The deceleration due to resistance can be computed using:\n",
    "\n",
    "$\\huge\n",
    "a_{\\text{coast}} = -\\frac{F_r}{m_{\\text{train}}}\n",
    "$\n",
    "\n",
    "Where:\n",
    "- $ a_{\\text{coast}} $ is the deceleration during coasting.\n",
    "- $ m_{\\text{train}} $ is the mass of the train.\n"
   ]
  },
  {
   "cell_type": "code",
   "execution_count": 10,
   "id": "3458e252-c546-41aa-9120-8b264fe34143",
   "metadata": {},
   "outputs": [],
   "source": [
    "def coast(speed, time_step=1):\n",
    "    \"\"\"\n",
    "    Calculate the reduced speed during coasting due to friction forces.\n",
    "\n",
    "    Parameters:\n",
    "    - speed (float): Current speed of the train (m/s).\n",
    "    - mass (float): Mass of the train (in tons).\n",
    "    - static_friction (float): Static friction coefficient (N/ton).\n",
    "    - rolling_resistance (float): Rolling resistance coefficient (N/ton/m/s).\n",
    "    - air_resistance (float): Air resistance coefficient (N/ton/m^2/s^2).\n",
    "    - time_step (float): Time over which to calculate the speed reduction (seconds). Default is 1 second.\n",
    "\n",
    "    Returns:\n",
    "    - float: The new reduced speed after applying friction forces.\n",
    "    \"\"\"\n",
    "\n",
    "    if (no_coasting):\n",
    "        return speed\n",
    "        \n",
    "    # Convert mass from tons to kg (1 ton = 1000 kg)\n",
    "    mass_kg = mass * 1000\n",
    "\n",
    "    # Calculate the total resistance (Davis equation)\n",
    "    resistance = davis()\n",
    "\n",
    "    # Calculate deceleration due to resistance (force/mass)\n",
    "    deceleration = resistance / mass_kg  # in m/s²\n",
    "\n",
    "    # Calculate the new speed after deceleration due to resistance\n",
    "    speed -= deceleration * time_step\n",
    "    if speed < 0:\n",
    "        speed = 0\n",
    "\n",
    "    return speed"
   ]
  },
  {
   "cell_type": "markdown",
   "id": "37442887-cf33-41e6-b7dd-afdbf5786f4e",
   "metadata": {},
   "source": [
    "$\\huge R = \\frac{500}{r} $\n",
    "\n",
    "- R: Curve Resistance in N/Ton\n",
    "- r: Curve Radius in m\n",
    "\n",
    "1. **Curve and Gradient Handling**: Instead of assigning a single curve or gradient to a section, we'll calculate their effects cumulatively if there are overlapping curves or gradients.\n",
    "\n",
    "2. **Resistance Calculations**: The calculate_cumulative_resistance() function computes the total resistances from all applicable curves and gradients at each segment."
   ]
  },
  {
   "cell_type": "code",
   "execution_count": 11,
   "id": "51936d8e-c7ab-4fa2-8cdb-9611661610dc",
   "metadata": {},
   "outputs": [],
   "source": [
    "# Function to find the speed restriction at a given distance\n",
    "def get_speed_restriction(distance):\n",
    "    \"\"\"\n",
    "    Applies the Speed Restriction if the train is in SR zone.\n",
    "\n",
    "    Parameters:\n",
    "    - distance (float): The current position of the train wrt origin\n",
    "\n",
    "    Returns:\n",
    "    - float: If the Train is in SR zone, the speed is reduced to a specified restricted speed.\n",
    "    \"\"\"\n",
    "    for i in range(len(curves)):\n",
    "        start = curves.iloc[i]['Start']\n",
    "        end = curves.iloc[i]['End']\n",
    "        radius = curves.iloc[i]['Radius']\n",
    "        \n",
    "        # Check if the current distance falls within the curve zone\n",
    "        if start <= distance <= end:\n",
    "            # Return the speed restriction for the corresponding radius\n",
    "            return speed_limit_dict.get(radius, None)  * 1000 / 3600 # Returns None if radius not found\n",
    "    return None  # No speed restriction if distance is outside curve zones\n"
   ]
  },
  {
   "cell_type": "markdown",
   "id": "b1f43e4d-d769-49ef-b6fa-7097bb8f9980",
   "metadata": {},
   "source": [
    "***Operation Philosophy***\n",
    "\n",
    "The train will be one of three modes\n",
    "\n",
    "- **Acceleration mode**: The train accelerates to it's maximum speed\n",
    "- **Coasting**: Tractive effort is withdrawn and the train travels on it's own inertia. It slows due to friction\n",
    "- **Braking**: The train brakes on it's braking power"
   ]
  },
  {
   "cell_type": "markdown",
   "id": "b17770e1-ba1b-43ea-bfec-016e36a43354",
   "metadata": {},
   "source": [
    "Time taken to accelerate and deacclerate if distance is not enough to reach maximum speed is:\n",
    "\n",
    "```python\n",
    "t_total = np.sqrt(2 * d / (a + b))\n",
    "```\n",
    "\n",
    "\n",
    "### Breakdown:\n",
    "\n",
    "- `d`: The total distance to be traveled.\n",
    "- `a`: The acceleration rate (in meters per second squared, m/s²).\n",
    "- `b`: The braking rate (in meters per second squared, m/s²).\n",
    "\n",
    "### Explanation:\n",
    "\n",
    "1. **Kinematic equation for displacement (ignoring maximum speed)**:\n",
    "   The total distance traveled under constant acceleration and braking is given by:\n",
    "\n",
    "   \n",
    "   $\\huge\n",
    "   d = \\frac{1}{2} a t_{\\text{accel}}^2 + \\frac{1}{2} b t_{\\text{brake}}^2\n",
    "   $\n",
    "\n",
    "   Since the train accelerates and brakes symmetrically (one phase follows the other), the total time can be treated as a function of both `a` and `b`. For simplicity, we assume that the assumed acceleration is total of both acceleration and braking:\n",
    "\n",
    "   \n",
    "   $\\huge\n",
    "   d = \\frac{1}{2} (a + b) t_{\\text{total}}^2\n",
    "   $\n",
    "\n",
    "3. **Rearranging the equation** to solve for `t_total`:\n",
    "\n",
    "4. \n",
    "   $\\huge\n",
    "   t_{\\text{total}} = \\sqrt{\\frac{2d}{a + b}}\n",
    "  $\n",
    "\n",
    "This equation assumes that the entire journey is a combination of acceleration and braking, with no constant-speed coasting phase. \n",
    "\n",
    "### Key Points:\n",
    "- The `t_total` calculation is only valid when the train never reaches the maximum speed.\n",
    "- The formula simplifies the process by treating the acceleration and braking phases together, assuming symmetrical motion. The distance is split between the acceleration and braking phases."
   ]
  },
  {
   "cell_type": "markdown",
   "id": "21b320ff-9fca-49e7-a454-76d151f7b484",
   "metadata": {},
   "source": [
    "***Run the Simulation***"
   ]
  },
  {
   "cell_type": "markdown",
   "id": "266877f7-9a91-444a-9748-5616ef4b2da6",
   "metadata": {},
   "source": [
    "The formula $P_{\\text{required}} = R_{\\text{total}} \\times v $ is used to calculate the **power required** by a train to overcome various resistances while it is in motion. \n",
    "\n",
    "- **Power in Physics**:\n",
    "  \n",
    "   $\n",
    "   P = F \\times v\n",
    "  $\n",
    "  \n",
    "   Where:\n",
    "   - $ P $ is power,\n",
    "   - $ F $ is the force (in this case, the total resistance),\n",
    "   - $ v $ is the velocity (speed of the train).\n",
    "\n",
    "\n",
    "### Example:\n",
    "\n",
    "- If a train is moving at a speed of 20 m/s and the total resistance it encounters is 300 N, the power required to maintain that speed would be calculated as follows:\n",
    "  \n",
    "  $\n",
    "  P_{\\text{required}} = R_{\\text{total}} \\times v = 300 \\, \\text{N} \\times 20 \\, \\text{m/s} = 6000 \\, \\text{W} \n",
    "  $\n",
    "\n",
    "This means the train needs to produce at least 6000 watts (6 Kw) of power to maintain that speed against the resistance. If the power available from the train's motor is less than this, it will start to decelerate."
   ]
  },
  {
   "cell_type": "code",
   "execution_count": 12,
   "id": "9841856a-cfc1-4faf-8c03-fcdaa91aece6",
   "metadata": {
    "scrolled": true
   },
   "outputs": [
    {
     "name": "stdout",
     "output_type": "stream",
     "text": [
      "Total energy consumed during the run: 224.262 kWh\n"
     ]
    }
   ],
   "source": [
    "# Initialize simulation variables\n",
    "time = 0\n",
    "speed = 0\n",
    "distance = 0\n",
    "covered_distance = 0\n",
    "time_log = []\n",
    "speed_log = []\n",
    "power_log = []\n",
    "section_avg_speed = []\n",
    "\n",
    "# Simulate the movement from station to station\n",
    "for i in range(len(station_names)-1):\n",
    "    start_station = station_chainages[i]\n",
    "    end_station = station_chainages[i+1]\n",
    "    segment_distance = end_station - start_station\n",
    "    #print(f'Next Station: {segment_distance} Distance Covered: {covered_distance} Reset:{distance}')\n",
    "    segment_time = 0\n",
    "    distance = 0\n",
    "    speed = 0\n",
    "    \n",
    "    # Accelerate after leaving the station\n",
    "    while distance < accelerating_distance:  # Accelerate\n",
    "        if (speed >= switch_speed):\n",
    "            acceleration_loop = acceleration_switch\n",
    "        else:\n",
    "            acceleration_loop = acceleration\n",
    "        speed = accelerate(speed, acceleration_loop, max_speed, time_step=1)\n",
    "        distance += speed\n",
    "\n",
    "        # Calculate power for acceleration\n",
    "        force = mass * 1000 * acceleration_loop  # Force = mass * acceleration\n",
    "        power = force * speed  # Power = Force * Speed\n",
    "        power_log.append(power)  # Store power for integration\n",
    "        \n",
    "        #print(f'Speed:{speed} Distance:{distance} Power:{power}')\n",
    "        if (speed >= max_speed):\n",
    "            break\n",
    "        else:\n",
    "            time += 1\n",
    "\n",
    "        segment_time += 1\n",
    "        time_log.append(time/60)\n",
    "        speed_log.append(speed * 18 / 5)\n",
    "\n",
    "    # Coast until speed drops to 80% of the max speed\n",
    "    # Flag to indicate when we should continue accelerating to reach max speed\n",
    "    should_accelerate = False\n",
    "\n",
    "    while distance < (segment_distance - braking_distance):  # Coasting\n",
    "        if speed > coasting_limit * max_speed and not should_accelerate :\n",
    "            #print('coast')\n",
    "            speed = coast(speed, time_step=1)  # Coasting deceleration, assumed to be small\n",
    "        else:\n",
    "            # If the speed drops below 80%, enable accelerate-to-max mode\n",
    "            should_accelerate = True\n",
    "            speed = accelerate(speed, acceleration, max_speed, time_step=1)\n",
    "\n",
    "        # Ensure speed does not exceed the maximum limit\n",
    "        if speed >= max_speed:\n",
    "            speed = max_speed  \n",
    "            should_accelerate = False  # Stop accelerating once max speed is reached\n",
    "            \n",
    "        speed_limit = get_speed_restriction(covered_distance + distance)\n",
    "        if speed_limit:\n",
    "            speed = speed_limit\n",
    "        distance += speed\n",
    "        #speed_check = coast(speed, time_step=1)\n",
    "        #print(f'Check:{speed_check}, speed:{speed}')\n",
    "        #print(f'Speed:{speed} Distance:{distance}')\n",
    "\n",
    "        segment_time += 1\n",
    "        time += 1\n",
    "        time_log.append(time/60)\n",
    "        speed_log.append(speed * 18 / 5)\n",
    "    \n",
    "    # Brake before reaching the station\n",
    "    while distance < segment_distance:  # Braking\n",
    "        speed = brake(speed, braking_deceleration, time_step=1)\n",
    "        distance += speed\n",
    "        #print(f'Speed:{speed} Distance:{distance}')\n",
    "        if (speed == 0):\n",
    "            break\n",
    "        else:\n",
    "            time += 1\n",
    "\n",
    "        segment_time += 1\n",
    "        time_log.append(time/60)\n",
    "        speed_log.append(speed * 18 / 5)\n",
    "\n",
    "        # Calculate braking power\n",
    "        force = mass * 1000 * braking_deceleration  # Force = mass * braking\n",
    "        power = force * speed  # Power = Force * Speed\n",
    "        power_log.append(-power * regen_efficiency)  # Regenerated power\n",
    "\n",
    "    # Stop at the station for 30 seconds\n",
    "    for _ in range(30):\n",
    "        segment_time += 1\n",
    "        time += 1\n",
    "        time_log.append(time/60)\n",
    "        speed_log.append(0)\n",
    "\n",
    "    covered_distance += segment_distance\n",
    "    segment_avg_speed = segment_distance / segment_time  * 18 / 5\n",
    "    section_avg_speed.append(segment_avg_speed)\n",
    "    #print(segment_avg_speed)\n",
    "\n",
    "# Numerical integration of power to get energy in Joules\n",
    "energy_consumed = np.trapezoid(power_log, dx=1)  # dx=1 because time step is 1 second\n",
    "\n",
    "# Convert energy from Joules to kWh\n",
    "energy_consumed_kwh = energy_consumed / 3600_000\n",
    "\n",
    "print(f\"Total energy consumed during the run: {energy_consumed_kwh:.3f} kWh\")\n",
    "\n",
    "#print(f'time:{time_log}')\n",
    "#print(f'speed:{speed_log}')\n",
    "#print(f'power:{power_log}')\n",
    "#print(f'Section Average Speed:{section_avg_speed}')\n"
   ]
  },
  {
   "cell_type": "markdown",
   "id": "affc2cc2-db3a-4e36-b8bc-863ca1fba883",
   "metadata": {},
   "source": [
    "***Motor Rating***"
   ]
  },
  {
   "cell_type": "markdown",
   "id": "811da9ce-f9ba-4b15-9fda-39d66c018bd5",
   "metadata": {},
   "source": [
    "**Tractive Effort** = Tractive Effort at **Start** + Tractive Effort on **Rolling**\n",
    "\n",
    "Rolling Tractive Effort = (**Tare weight** of Cars $\\times$ **Inertial** Co-effecients) $\\times$ **Acceleration**\n",
    "\n",
    "Starting Tractive Effort = **Starting Resistance** $\\times$ Train **weight**\n",
    "\n",
    "Motor **Power Rating** = Tractive Effort $\\times$ **Speed**"
   ]
  },
  {
   "cell_type": "code",
   "execution_count": 13,
   "id": "9135d9b4-ff59-4bc2-aa1c-0e52c83f7749",
   "metadata": {},
   "outputs": [
    {
     "name": "stdout",
     "output_type": "stream",
     "text": [
      "Required Tractive effort:27.530625,\t Motor Rating:305.8958333333333\n"
     ]
    }
   ],
   "source": [
    "te_start = mass * starting_resistance / 1000 # Starting Effort in kN\n",
    "te_rolling = (mass + \n",
    "              mc_mass * inertia_mass_m * 2 + \n",
    "             tc_mass * inertia_mass_t) * acceleration # Moving Effort\n",
    "te_total = te_start + te_rolling # Total Effort\n",
    "te_motor = te_total / motor_nos # Effort per Motor\n",
    "motor_rating = te_motor * switch_speed  # Motor Rating\n",
    "\n",
    "print(f'Required Tractive effort:{te_motor},\\t Motor Rating:{motor_rating}')\n",
    "#print(acceleration)"
   ]
  },
  {
   "cell_type": "markdown",
   "id": "33b444c3-ca8c-424f-9eb8-537ad584bdcf",
   "metadata": {},
   "source": [
    "***Average Speed***"
   ]
  },
  {
   "cell_type": "code",
   "execution_count": 14,
   "id": "9fde7d32-2dfd-40b4-9106-6c2192341f73",
   "metadata": {},
   "outputs": [
    {
     "name": "stdout",
     "output_type": "stream",
     "text": [
      "A total distance of 35.78 Km was covered in 47.83 minutes.\n",
      "Average speed for the trip was: 44.88 km/hr\n"
     ]
    }
   ],
   "source": [
    "# Calculate the average speed\n",
    "total_distance = station_chainages[-1] - station_chainages[0]\n",
    "average_speed = total_distance / time\n",
    "print(f\"A total distance of {total_distance/1000:.2f} Km was covered in {time/60:.2f} minutes.\")\n",
    "print(f\"Average speed for the trip was: {average_speed*18/5:.2f} km/hr\")\n"
   ]
  },
  {
   "cell_type": "code",
   "execution_count": 15,
   "id": "b31c8209-2894-480f-a106-4d44c1a5300a",
   "metadata": {},
   "outputs": [],
   "source": [
    "def chainage(station_chainages, section_avg_speed):\n",
    "    # Calculate distances between consecutive stations\n",
    "    distances_between_stations = [station_chainages[i+1] - station_chainages[i] for i in range(len(station_chainages)-1)]\n",
    "\n",
    "    from_station = []\n",
    "    to_station = []\n",
    "    interstation_distance = []\n",
    "    seperator = []\n",
    "    for i in range(len(distances_between_stations)):\n",
    "        from_station.append(station_names[i])\n",
    "        to_station.append(station_names[i+1])\n",
    "        interstation_distance.append(distances_between_stations[i])\n",
    "        seperator.append('--')\n",
    "\n",
    "    data = {\n",
    "        \"Station From\":from_station,\n",
    "        \" \":seperator,\n",
    "        \"Station To\":to_station,\n",
    "        \"Distance\":interstation_distance,\n",
    "        \"Section Speed\":section_avg_speed\n",
    "    }\n",
    "\n",
    "    # Create DataFrame\n",
    "    df = pd.DataFrame(data)\n",
    "\n",
    "    return df\n"
   ]
  },
  {
   "cell_type": "code",
   "execution_count": 16,
   "id": "1317739d-237d-4d70-9b05-5339434c64c2",
   "metadata": {},
   "outputs": [],
   "source": [
    "def spread_sheet(excel_path, plot_path, time_log, speed_log, station_chainages, section_avg_speed):\n",
    "\n",
    "    data = {\n",
    "    \"Speed\":speed_log,\n",
    "    \"Time\":time_log\n",
    "    }\n",
    "\n",
    "    # Create DataFrame\n",
    "    df = pd.DataFrame(data)\n",
    "    \n",
    "    df.to_excel(excel_path, index=False, sheet_name=\"Data\")  # Save data to Excel\n",
    "    df = chainage(station_chainages, section_avg_speed)\n",
    "\n",
    "    # Define the new DataFrame\n",
    "    df_new = chainage(station_chainages, section_avg_speed)\n",
    "\n",
    "    # Append the new DataFrame to a new sheet in the same Excel file\n",
    "    with pd.ExcelWriter(excel_path, mode='a', engine='openpyxl') as writer:\n",
    "        df_new.to_excel(writer, index=False, sheet_name=\"Speed\")\n",
    "\n",
    "    # Step 4: Insert the plot image into the Excel file\n",
    "    wb = load_workbook(excel_path)\n",
    "    ws = wb.create_sheet(\"Plot\")\n",
    "    img = Image(plot_path)\n",
    "    ws.add_image(img, \"A1\")  # Insert image starting at cell A1\n",
    "    wb.save(excel_path)\n",
    "\n",
    "\n",
    "    return\n"
   ]
  },
  {
   "cell_type": "code",
   "execution_count": 17,
   "id": "f2304f97-4ec3-4083-900e-4f67b2e53263",
   "metadata": {},
   "outputs": [
    {
     "data": {
      "image/png": "[encoded data removed]",
      "text/plain": [
       "<Figure size 1200x600 with 1 Axes>"
      ]
     },
     "metadata": {},
     "output_type": "display_data"
    }
   ],
   "source": [
    "# Plot the speed vs time graph\n",
    "fig = plt.figure(figsize=(12, 6))\n",
    "\n",
    "plt.plot(time_log, speed_log)\n",
    "plt.title('Speed vs Time')\n",
    "plt.xlabel('Time (min)')\n",
    "plt.ylabel('Speed (Km/hr)')\n",
    "plt.savefig(plot_path)\n",
    "\n",
    "plt.show()\n",
    "\n",
    "\n"
   ]
  },
  {
   "cell_type": "markdown",
   "id": "1c26e2aa-ec09-4373-9581-3c4108190129",
   "metadata": {},
   "source": [
    "***Stations Distances***"
   ]
  },
  {
   "cell_type": "code",
   "execution_count": 18,
   "id": "bdd098f9-b6b8-472b-98e0-70db1499d1ec",
   "metadata": {},
   "outputs": [],
   "source": [
    "spread_sheet(excel_path, plot_path, time_log, speed_log, station_chainages, section_avg_speed)\n",
    "\n",
    "df = chainage(station_chainages, section_avg_speed)\n",
    "\n",
    "#print(df)\n",
    "#df.to_excel(excel_path, index=False, sheet_name=\"Speed\")  # Save data to Excel\n"
   ]
  },
  {
   "cell_type": "markdown",
   "id": "fe85cb73-8878-4e45-8017-02b8b73145b8",
   "metadata": {},
   "source": [
    "Introducing curve and gradient resistance into the train's journey adds new complexities to the coasting and cruising phases. Here's how we'll incorporate these factors:\n",
    "\n",
    "#### Curve Resistance:\n",
    "- **Curve Resistance** occurs due to the curvature of the track. For a given curve, the additional resistance is calculated as:\n",
    "\n",
    "$\\huge\n",
    "  R_{\\text{curve}} = \\frac{600}{\\text{radius of the curve in meters}} \n",
    "$\n",
    "\n",
    "#### Gradient Resistance:\n",
    "- **Gradient Resistance** is the resistance caused by an incline or decline in the track. For a 1 in 100 gradient, the resistance is:\n",
    "\n",
    "$\\huge\n",
    "  R_{\\text{gradient}} = 9.81 \\times \\frac{1}{100} \\times \\text{mass of the train (in kg)}\n",
    "$\n"
   ]
  },
  {
   "cell_type": "code",
   "execution_count": null,
   "id": "3ca29db9-e74e-4d0d-80b4-89655eb16d1e",
   "metadata": {},
   "outputs": [],
   "source": []
  },
  {
   "cell_type": "code",
   "execution_count": null,
   "id": "a6275ea2-2596-466e-87f3-7cacc0f282cf",
   "metadata": {},
   "outputs": [],
   "source": []
  },
  {
   "cell_type": "markdown",
   "id": "9cf03b4e-1f63-4520-a663-ef353b20fd64",
   "metadata": {},
   "source": [
    "\n"
   ]
  },
  {
   "cell_type": "code",
   "execution_count": null,
   "id": "5be17217-c175-4800-acd9-e87f76a9c5b1",
   "metadata": {},
   "outputs": [],
   "source": []
  },
  {
   "cell_type": "markdown",
   "id": "f655c07b-cc13-4346-931c-a15d31b86037",
   "metadata": {},
   "source": [
    "\n"
   ]
  },
  {
   "cell_type": "code",
   "execution_count": null,
   "id": "260121b9-2f8a-45fe-9262-b8b49544d57d",
   "metadata": {},
   "outputs": [],
   "source": []
  }
 ],
 "metadata": {
  "kernelspec": {
   "display_name": "Python 3 (ipykernel)",
   "language": "python",
   "name": "python3"
  },
  "language_info": {
   "codemirror_mode": {
    "name": "ipython",
    "version": 3
   },
   "file_extension": ".py",
   "mimetype": "text/x-python",
   "name": "python",
   "nbconvert_exporter": "python",
   "pygments_lexer": "ipython3",
   "version": "3.12.6"
  }
 },
 "nbformat": 4,
 "nbformat_minor": 5
}
